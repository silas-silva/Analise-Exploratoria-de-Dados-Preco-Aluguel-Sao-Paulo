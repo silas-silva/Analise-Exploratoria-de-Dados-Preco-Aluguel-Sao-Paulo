{
 "cells": [
  {
   "cell_type": "markdown",
   "id": "01723b28",
   "metadata": {},
   "source": [
    "# Análise Exploratória de Dados"
   ]
  },
  {
   "cell_type": "markdown",
   "id": "7fd6bd6e",
   "metadata": {},
   "source": [
    "## Dataset\n",
    "- Fonte : https://www.kaggle.com/datasets/rubenssjr/brasilian-houses-to-rent\n"
   ]
  },
  {
   "cell_type": "markdown",
   "id": "ae8c3048",
   "metadata": {},
   "source": [
    "## Informações sobre os dados\n",
    "\n",
    "- Colunas\n",
    "    - city: Nome da cidade onde os dados foram obtidos\n",
    "    - area: Área em m² do imóvel \n",
    "    - rooms: Número de Quartos\n",
    "    - bathroom:Número de Banheiros\n",
    "    - parking spaces: Quantidade de garagens\n",
    "    - floor: Andar do imovel\n",
    "    - animal: Aceita Animais domesticos?\n",
    "    - furniture: Imóvel Imobiliado?\n",
    "    - hoa (R\\$): Valor do condomínio\n",
    "    - rent amount (R\\$): Valor do Aluguel\n",
    "    - property tax (R\\$): Valor do IPTU\n",
    "    - fire insurance (R\\$): Valor do Seguro de Incêndio\n",
    "    - total (R\\$): Valor total de aluguel do imóvel"
   ]
  },
  {
   "cell_type": "markdown",
   "id": "b24f5562",
   "metadata": {},
   "source": [
    "## Objetivos\n",
    "- Os dados apresentam dados de outras cidades além de São Paulo (Rio de Janeiro, Campinas, Porto Alegre), o objetivo é fazer um recorte especifico da cidade de são Paulo e Análisar os dados"
   ]
  },
  {
   "cell_type": "markdown",
   "id": "f555b2a7",
   "metadata": {},
   "source": [
    "## Perguntas\n",
    "- Permitir Animais de estimação aumenta o preço do aluguel?\n",
    "- Permitir Animais de estimação tem relação com o tamanho do imóvel?\n",
    "- Qual a proporção de imóveis que aceitam animais de estimação?\n",
    "- Existe uma correlação entre a quantidade de quartos e o valor do condomínio?\n",
    "- Como a quantidade de garagens se relaciona com o valor do seguro contra incêndio?\n",
    "- Qual é a média de despesas com IPTU em São Paulo?\n",
    "- Qual a diferença média de preço entre imóveis mobiliados e não mobiliados?\n",
    "- O andar interfere no preço?"
   ]
  },
  {
   "cell_type": "code",
   "execution_count": 212,
   "id": "ae6ffba1",
   "metadata": {},
   "outputs": [],
   "source": [
    "# imports\n",
    "import pandas as pd\n",
    "import seaborn as sns\n",
    "import matplotlib.pyplot as plt\n",
    "\n",
    "from scipy.stats import ttest_ind"
   ]
  },
  {
   "cell_type": "code",
   "execution_count": 112,
   "id": "2e31dd34",
   "metadata": {},
   "outputs": [],
   "source": [
    "# carregar base de dados\n",
    "precoAluguelImoveisSP_df = pd.read_csv('./dados_preço_aluguel_BR.csv', sep=',')"
   ]
  },
  {
   "cell_type": "code",
   "execution_count": 113,
   "id": "e45bb4e7",
   "metadata": {
    "scrolled": true
   },
   "outputs": [
    {
     "data": {
      "text/html": [
       "<div>\n",
       "<style scoped>\n",
       "    .dataframe tbody tr th:only-of-type {\n",
       "        vertical-align: middle;\n",
       "    }\n",
       "\n",
       "    .dataframe tbody tr th {\n",
       "        vertical-align: top;\n",
       "    }\n",
       "\n",
       "    .dataframe thead th {\n",
       "        text-align: right;\n",
       "    }\n",
       "</style>\n",
       "<table border=\"1\" class=\"dataframe\">\n",
       "  <thead>\n",
       "    <tr style=\"text-align: right;\">\n",
       "      <th></th>\n",
       "      <th>city</th>\n",
       "      <th>area</th>\n",
       "      <th>rooms</th>\n",
       "      <th>bathroom</th>\n",
       "      <th>parking spaces</th>\n",
       "      <th>floor</th>\n",
       "      <th>animal</th>\n",
       "      <th>furniture</th>\n",
       "      <th>hoa (R$)</th>\n",
       "      <th>rent amount (R$)</th>\n",
       "      <th>property tax (R$)</th>\n",
       "      <th>fire insurance (R$)</th>\n",
       "      <th>total (R$)</th>\n",
       "    </tr>\n",
       "  </thead>\n",
       "  <tbody>\n",
       "    <tr>\n",
       "      <th>0</th>\n",
       "      <td>São Paulo</td>\n",
       "      <td>70</td>\n",
       "      <td>2</td>\n",
       "      <td>1</td>\n",
       "      <td>1</td>\n",
       "      <td>7</td>\n",
       "      <td>acept</td>\n",
       "      <td>furnished</td>\n",
       "      <td>2065</td>\n",
       "      <td>3300</td>\n",
       "      <td>211</td>\n",
       "      <td>42</td>\n",
       "      <td>5618</td>\n",
       "    </tr>\n",
       "    <tr>\n",
       "      <th>1</th>\n",
       "      <td>São Paulo</td>\n",
       "      <td>320</td>\n",
       "      <td>4</td>\n",
       "      <td>4</td>\n",
       "      <td>0</td>\n",
       "      <td>20</td>\n",
       "      <td>acept</td>\n",
       "      <td>not furnished</td>\n",
       "      <td>1200</td>\n",
       "      <td>4960</td>\n",
       "      <td>1750</td>\n",
       "      <td>63</td>\n",
       "      <td>7973</td>\n",
       "    </tr>\n",
       "    <tr>\n",
       "      <th>2</th>\n",
       "      <td>Porto Alegre</td>\n",
       "      <td>80</td>\n",
       "      <td>1</td>\n",
       "      <td>1</td>\n",
       "      <td>1</td>\n",
       "      <td>6</td>\n",
       "      <td>acept</td>\n",
       "      <td>not furnished</td>\n",
       "      <td>1000</td>\n",
       "      <td>2800</td>\n",
       "      <td>0</td>\n",
       "      <td>41</td>\n",
       "      <td>3841</td>\n",
       "    </tr>\n",
       "    <tr>\n",
       "      <th>3</th>\n",
       "      <td>Porto Alegre</td>\n",
       "      <td>51</td>\n",
       "      <td>2</td>\n",
       "      <td>1</td>\n",
       "      <td>0</td>\n",
       "      <td>2</td>\n",
       "      <td>acept</td>\n",
       "      <td>not furnished</td>\n",
       "      <td>270</td>\n",
       "      <td>1112</td>\n",
       "      <td>22</td>\n",
       "      <td>17</td>\n",
       "      <td>1421</td>\n",
       "    </tr>\n",
       "    <tr>\n",
       "      <th>4</th>\n",
       "      <td>São Paulo</td>\n",
       "      <td>25</td>\n",
       "      <td>1</td>\n",
       "      <td>1</td>\n",
       "      <td>0</td>\n",
       "      <td>1</td>\n",
       "      <td>not acept</td>\n",
       "      <td>not furnished</td>\n",
       "      <td>0</td>\n",
       "      <td>800</td>\n",
       "      <td>25</td>\n",
       "      <td>11</td>\n",
       "      <td>836</td>\n",
       "    </tr>\n",
       "  </tbody>\n",
       "</table>\n",
       "</div>"
      ],
      "text/plain": [
       "           city  area  rooms  bathroom  parking spaces floor     animal  \\\n",
       "0     São Paulo    70      2         1               1     7      acept   \n",
       "1     São Paulo   320      4         4               0    20      acept   \n",
       "2  Porto Alegre    80      1         1               1     6      acept   \n",
       "3  Porto Alegre    51      2         1               0     2      acept   \n",
       "4     São Paulo    25      1         1               0     1  not acept   \n",
       "\n",
       "       furniture  hoa (R$)  rent amount (R$)  property tax (R$)  \\\n",
       "0      furnished      2065              3300                211   \n",
       "1  not furnished      1200              4960               1750   \n",
       "2  not furnished      1000              2800                  0   \n",
       "3  not furnished       270              1112                 22   \n",
       "4  not furnished         0               800                 25   \n",
       "\n",
       "   fire insurance (R$)  total (R$)  \n",
       "0                   42        5618  \n",
       "1                   63        7973  \n",
       "2                   41        3841  \n",
       "3                   17        1421  \n",
       "4                   11         836  "
      ]
     },
     "execution_count": 113,
     "metadata": {},
     "output_type": "execute_result"
    }
   ],
   "source": [
    "precoAluguelImoveisSP_df.head()"
   ]
  },
  {
   "cell_type": "markdown",
   "id": "a32a87fe",
   "metadata": {},
   "source": [
    "## Pré Processamento"
   ]
  },
  {
   "cell_type": "code",
   "execution_count": 114,
   "id": "bf698148",
   "metadata": {},
   "outputs": [
    {
     "name": "stdout",
     "output_type": "stream",
     "text": [
      "<class 'pandas.core.frame.DataFrame'>\n",
      "RangeIndex: 10692 entries, 0 to 10691\n",
      "Data columns (total 13 columns):\n",
      " #   Column               Non-Null Count  Dtype \n",
      "---  ------               --------------  ----- \n",
      " 0   city                 10692 non-null  object\n",
      " 1   area                 10692 non-null  int64 \n",
      " 2   rooms                10692 non-null  int64 \n",
      " 3   bathroom             10692 non-null  int64 \n",
      " 4   parking spaces       10692 non-null  int64 \n",
      " 5   floor                10692 non-null  object\n",
      " 6   animal               10692 non-null  object\n",
      " 7   furniture            10692 non-null  object\n",
      " 8   hoa (R$)             10692 non-null  int64 \n",
      " 9   rent amount (R$)     10692 non-null  int64 \n",
      " 10  property tax (R$)    10692 non-null  int64 \n",
      " 11  fire insurance (R$)  10692 non-null  int64 \n",
      " 12  total (R$)           10692 non-null  int64 \n",
      "dtypes: int64(9), object(4)\n",
      "memory usage: 1.1+ MB\n"
     ]
    }
   ],
   "source": [
    "precoAluguelImoveisSP_df.info()"
   ]
  },
  {
   "cell_type": "markdown",
   "id": "6905d1ad",
   "metadata": {},
   "source": [
    "* O floor está como object, mas é para ser um tipo int64, pois são valores numericos"
   ]
  },
  {
   "cell_type": "markdown",
   "id": "4bc7a572",
   "metadata": {},
   "source": [
    "### Corrigir coluna \"floor\""
   ]
  },
  {
   "cell_type": "code",
   "execution_count": 115,
   "id": "33fc7189",
   "metadata": {},
   "outputs": [],
   "source": [
    "# Transformar de object para numerico\n",
    "precoAluguelImoveisSP_df['floor'] = pd.to_numeric(precoAluguelImoveisSP_df['floor'], errors='coerce')"
   ]
  },
  {
   "cell_type": "code",
   "execution_count": 116,
   "id": "4d4d670d",
   "metadata": {},
   "outputs": [
    {
     "name": "stdout",
     "output_type": "stream",
     "text": [
      "<class 'pandas.core.frame.DataFrame'>\n",
      "RangeIndex: 10692 entries, 0 to 10691\n",
      "Data columns (total 13 columns):\n",
      " #   Column               Non-Null Count  Dtype  \n",
      "---  ------               --------------  -----  \n",
      " 0   city                 10692 non-null  object \n",
      " 1   area                 10692 non-null  int64  \n",
      " 2   rooms                10692 non-null  int64  \n",
      " 3   bathroom             10692 non-null  int64  \n",
      " 4   parking spaces       10692 non-null  int64  \n",
      " 5   floor                8231 non-null   float64\n",
      " 6   animal               10692 non-null  object \n",
      " 7   furniture            10692 non-null  object \n",
      " 8   hoa (R$)             10692 non-null  int64  \n",
      " 9   rent amount (R$)     10692 non-null  int64  \n",
      " 10  property tax (R$)    10692 non-null  int64  \n",
      " 11  fire insurance (R$)  10692 non-null  int64  \n",
      " 12  total (R$)           10692 non-null  int64  \n",
      "dtypes: float64(1), int64(9), object(3)\n",
      "memory usage: 1.1+ MB\n"
     ]
    }
   ],
   "source": [
    "precoAluguelImoveisSP_df.info()"
   ]
  },
  {
   "cell_type": "code",
   "execution_count": 117,
   "id": "216be7ad",
   "metadata": {},
   "outputs": [
    {
     "data": {
      "text/plain": [
       "city                   False\n",
       "area                   False\n",
       "rooms                  False\n",
       "bathroom               False\n",
       "parking spaces         False\n",
       "floor                   True\n",
       "animal                 False\n",
       "furniture              False\n",
       "hoa (R$)               False\n",
       "rent amount (R$)       False\n",
       "property tax (R$)      False\n",
       "fire insurance (R$)    False\n",
       "total (R$)             False\n",
       "dtype: bool"
      ]
     },
     "execution_count": 117,
     "metadata": {},
     "output_type": "execute_result"
    }
   ],
   "source": [
    "# Verificar valores nulos\n",
    "precoAluguelImoveisSP_df.isnull().any()"
   ]
  },
  {
   "cell_type": "markdown",
   "id": "8f3fa7b0",
   "metadata": {},
   "source": [
    "Os valores foram alterados para float, mas agora foi obtido valores nulos na coluna floor\n",
    "\n",
    "Para resolver esse problema pode-se tirar essa coluna da análise, pode-se colocar valores padrões (exemplo, primeiro andar em todos) ou pode remover as linhas com dados faltantes.\n",
    "\n",
    "De antemão, deixarei claro que a coluna não irá ser removida, pois é necessaria para análises.\n",
    "\n",
    "Para prosseguir, irei filtrar os dados de interesse primeiro, ou seja, apenas imóveis da cidade de São Paulo, após isso tomarei a decisão do que fazer com os dados faltantes, pois se for poucos dados que estejam faltando para o caso de São Paulo, é possivel simplesmente remover as linhas com dados faltantes"
   ]
  },
  {
   "cell_type": "code",
   "execution_count": 118,
   "id": "9a044a17",
   "metadata": {},
   "outputs": [],
   "source": [
    "# Pegar apenas dados da cidade de São Paulo\n",
    "selecao = precoAluguelImoveisSP_df['city'] == 'São Paulo'"
   ]
  },
  {
   "cell_type": "code",
   "execution_count": 119,
   "id": "6df417ac",
   "metadata": {},
   "outputs": [
    {
     "data": {
      "text/html": [
       "<div>\n",
       "<style scoped>\n",
       "    .dataframe tbody tr th:only-of-type {\n",
       "        vertical-align: middle;\n",
       "    }\n",
       "\n",
       "    .dataframe tbody tr th {\n",
       "        vertical-align: top;\n",
       "    }\n",
       "\n",
       "    .dataframe thead th {\n",
       "        text-align: right;\n",
       "    }\n",
       "</style>\n",
       "<table border=\"1\" class=\"dataframe\">\n",
       "  <thead>\n",
       "    <tr style=\"text-align: right;\">\n",
       "      <th></th>\n",
       "      <th>city</th>\n",
       "      <th>area</th>\n",
       "      <th>rooms</th>\n",
       "      <th>bathroom</th>\n",
       "      <th>parking spaces</th>\n",
       "      <th>floor</th>\n",
       "      <th>animal</th>\n",
       "      <th>furniture</th>\n",
       "      <th>hoa (R$)</th>\n",
       "      <th>rent amount (R$)</th>\n",
       "      <th>property tax (R$)</th>\n",
       "      <th>fire insurance (R$)</th>\n",
       "      <th>total (R$)</th>\n",
       "    </tr>\n",
       "  </thead>\n",
       "  <tbody>\n",
       "    <tr>\n",
       "      <th>0</th>\n",
       "      <td>São Paulo</td>\n",
       "      <td>70</td>\n",
       "      <td>2</td>\n",
       "      <td>1</td>\n",
       "      <td>1</td>\n",
       "      <td>7.0</td>\n",
       "      <td>acept</td>\n",
       "      <td>furnished</td>\n",
       "      <td>2065</td>\n",
       "      <td>3300</td>\n",
       "      <td>211</td>\n",
       "      <td>42</td>\n",
       "      <td>5618</td>\n",
       "    </tr>\n",
       "    <tr>\n",
       "      <th>1</th>\n",
       "      <td>São Paulo</td>\n",
       "      <td>320</td>\n",
       "      <td>4</td>\n",
       "      <td>4</td>\n",
       "      <td>0</td>\n",
       "      <td>20.0</td>\n",
       "      <td>acept</td>\n",
       "      <td>not furnished</td>\n",
       "      <td>1200</td>\n",
       "      <td>4960</td>\n",
       "      <td>1750</td>\n",
       "      <td>63</td>\n",
       "      <td>7973</td>\n",
       "    </tr>\n",
       "    <tr>\n",
       "      <th>4</th>\n",
       "      <td>São Paulo</td>\n",
       "      <td>25</td>\n",
       "      <td>1</td>\n",
       "      <td>1</td>\n",
       "      <td>0</td>\n",
       "      <td>1.0</td>\n",
       "      <td>not acept</td>\n",
       "      <td>not furnished</td>\n",
       "      <td>0</td>\n",
       "      <td>800</td>\n",
       "      <td>25</td>\n",
       "      <td>11</td>\n",
       "      <td>836</td>\n",
       "    </tr>\n",
       "    <tr>\n",
       "      <th>5</th>\n",
       "      <td>São Paulo</td>\n",
       "      <td>376</td>\n",
       "      <td>3</td>\n",
       "      <td>3</td>\n",
       "      <td>7</td>\n",
       "      <td>NaN</td>\n",
       "      <td>acept</td>\n",
       "      <td>not furnished</td>\n",
       "      <td>0</td>\n",
       "      <td>8000</td>\n",
       "      <td>834</td>\n",
       "      <td>121</td>\n",
       "      <td>8955</td>\n",
       "    </tr>\n",
       "    <tr>\n",
       "      <th>7</th>\n",
       "      <td>São Paulo</td>\n",
       "      <td>213</td>\n",
       "      <td>4</td>\n",
       "      <td>4</td>\n",
       "      <td>4</td>\n",
       "      <td>4.0</td>\n",
       "      <td>acept</td>\n",
       "      <td>not furnished</td>\n",
       "      <td>2254</td>\n",
       "      <td>3223</td>\n",
       "      <td>1735</td>\n",
       "      <td>41</td>\n",
       "      <td>7253</td>\n",
       "    </tr>\n",
       "  </tbody>\n",
       "</table>\n",
       "</div>"
      ],
      "text/plain": [
       "        city  area  rooms  bathroom  parking spaces  floor     animal  \\\n",
       "0  São Paulo    70      2         1               1    7.0      acept   \n",
       "1  São Paulo   320      4         4               0   20.0      acept   \n",
       "4  São Paulo    25      1         1               0    1.0  not acept   \n",
       "5  São Paulo   376      3         3               7    NaN      acept   \n",
       "7  São Paulo   213      4         4               4    4.0      acept   \n",
       "\n",
       "       furniture  hoa (R$)  rent amount (R$)  property tax (R$)  \\\n",
       "0      furnished      2065              3300                211   \n",
       "1  not furnished      1200              4960               1750   \n",
       "4  not furnished         0               800                 25   \n",
       "5  not furnished         0              8000                834   \n",
       "7  not furnished      2254              3223               1735   \n",
       "\n",
       "   fire insurance (R$)  total (R$)  \n",
       "0                   42        5618  \n",
       "1                   63        7973  \n",
       "4                   11         836  \n",
       "5                  121        8955  \n",
       "7                   41        7253  "
      ]
     },
     "execution_count": 119,
     "metadata": {},
     "output_type": "execute_result"
    }
   ],
   "source": [
    "precoAluguelImoveisSP_df = precoAluguelImoveisSP_df[selecao]\n",
    "precoAluguelImoveisSP_df.head()\n"
   ]
  },
  {
   "cell_type": "code",
   "execution_count": 120,
   "id": "a89a75d9",
   "metadata": {},
   "outputs": [
    {
     "name": "stdout",
     "output_type": "stream",
     "text": [
      "<class 'pandas.core.frame.DataFrame'>\n",
      "Int64Index: 5887 entries, 0 to 10691\n",
      "Data columns (total 13 columns):\n",
      " #   Column               Non-Null Count  Dtype  \n",
      "---  ------               --------------  -----  \n",
      " 0   city                 5887 non-null   object \n",
      " 1   area                 5887 non-null   int64  \n",
      " 2   rooms                5887 non-null   int64  \n",
      " 3   bathroom             5887 non-null   int64  \n",
      " 4   parking spaces       5887 non-null   int64  \n",
      " 5   floor                4273 non-null   float64\n",
      " 6   animal               5887 non-null   object \n",
      " 7   furniture            5887 non-null   object \n",
      " 8   hoa (R$)             5887 non-null   int64  \n",
      " 9   rent amount (R$)     5887 non-null   int64  \n",
      " 10  property tax (R$)    5887 non-null   int64  \n",
      " 11  fire insurance (R$)  5887 non-null   int64  \n",
      " 12  total (R$)           5887 non-null   int64  \n",
      "dtypes: float64(1), int64(9), object(3)\n",
      "memory usage: 643.9+ KB\n"
     ]
    }
   ],
   "source": [
    "precoAluguelImoveisSP_df.info()"
   ]
  },
  {
   "cell_type": "markdown",
   "id": "dcc37ca4",
   "metadata": {},
   "source": [
    "Existem 5887 dados referente a cidade de São Paulo, e existem apenas 4273 dados na coluna floor que são validos, ou seja existem 1.614 dados invalidos nessa coluna, 27,41% dos dados seriam excluidos se optasse por tirar as linhas com dados nulos, logo esses valores faltantes serão completos com a mediana."
   ]
  },
  {
   "cell_type": "code",
   "execution_count": 121,
   "id": "b39c39ed",
   "metadata": {},
   "outputs": [],
   "source": [
    "mediana = precoAluguelImoveisSP_df['floor'].median()\n",
    "precoAluguelImoveisSP_df['floor'] = precoAluguelImoveisSP_df['floor'].fillna(mediana)"
   ]
  },
  {
   "cell_type": "code",
   "execution_count": 122,
   "id": "437fab5b",
   "metadata": {},
   "outputs": [
    {
     "data": {
      "text/html": [
       "<div>\n",
       "<style scoped>\n",
       "    .dataframe tbody tr th:only-of-type {\n",
       "        vertical-align: middle;\n",
       "    }\n",
       "\n",
       "    .dataframe tbody tr th {\n",
       "        vertical-align: top;\n",
       "    }\n",
       "\n",
       "    .dataframe thead th {\n",
       "        text-align: right;\n",
       "    }\n",
       "</style>\n",
       "<table border=\"1\" class=\"dataframe\">\n",
       "  <thead>\n",
       "    <tr style=\"text-align: right;\">\n",
       "      <th></th>\n",
       "      <th>city</th>\n",
       "      <th>area</th>\n",
       "      <th>rooms</th>\n",
       "      <th>bathroom</th>\n",
       "      <th>parking spaces</th>\n",
       "      <th>floor</th>\n",
       "      <th>animal</th>\n",
       "      <th>furniture</th>\n",
       "      <th>hoa (R$)</th>\n",
       "      <th>rent amount (R$)</th>\n",
       "      <th>property tax (R$)</th>\n",
       "      <th>fire insurance (R$)</th>\n",
       "      <th>total (R$)</th>\n",
       "    </tr>\n",
       "  </thead>\n",
       "  <tbody>\n",
       "    <tr>\n",
       "      <th>0</th>\n",
       "      <td>São Paulo</td>\n",
       "      <td>70</td>\n",
       "      <td>2</td>\n",
       "      <td>1</td>\n",
       "      <td>1</td>\n",
       "      <td>7.0</td>\n",
       "      <td>acept</td>\n",
       "      <td>furnished</td>\n",
       "      <td>2065</td>\n",
       "      <td>3300</td>\n",
       "      <td>211</td>\n",
       "      <td>42</td>\n",
       "      <td>5618</td>\n",
       "    </tr>\n",
       "    <tr>\n",
       "      <th>1</th>\n",
       "      <td>São Paulo</td>\n",
       "      <td>320</td>\n",
       "      <td>4</td>\n",
       "      <td>4</td>\n",
       "      <td>0</td>\n",
       "      <td>20.0</td>\n",
       "      <td>acept</td>\n",
       "      <td>not furnished</td>\n",
       "      <td>1200</td>\n",
       "      <td>4960</td>\n",
       "      <td>1750</td>\n",
       "      <td>63</td>\n",
       "      <td>7973</td>\n",
       "    </tr>\n",
       "    <tr>\n",
       "      <th>4</th>\n",
       "      <td>São Paulo</td>\n",
       "      <td>25</td>\n",
       "      <td>1</td>\n",
       "      <td>1</td>\n",
       "      <td>0</td>\n",
       "      <td>1.0</td>\n",
       "      <td>not acept</td>\n",
       "      <td>not furnished</td>\n",
       "      <td>0</td>\n",
       "      <td>800</td>\n",
       "      <td>25</td>\n",
       "      <td>11</td>\n",
       "      <td>836</td>\n",
       "    </tr>\n",
       "    <tr>\n",
       "      <th>5</th>\n",
       "      <td>São Paulo</td>\n",
       "      <td>376</td>\n",
       "      <td>3</td>\n",
       "      <td>3</td>\n",
       "      <td>7</td>\n",
       "      <td>7.0</td>\n",
       "      <td>acept</td>\n",
       "      <td>not furnished</td>\n",
       "      <td>0</td>\n",
       "      <td>8000</td>\n",
       "      <td>834</td>\n",
       "      <td>121</td>\n",
       "      <td>8955</td>\n",
       "    </tr>\n",
       "    <tr>\n",
       "      <th>7</th>\n",
       "      <td>São Paulo</td>\n",
       "      <td>213</td>\n",
       "      <td>4</td>\n",
       "      <td>4</td>\n",
       "      <td>4</td>\n",
       "      <td>4.0</td>\n",
       "      <td>acept</td>\n",
       "      <td>not furnished</td>\n",
       "      <td>2254</td>\n",
       "      <td>3223</td>\n",
       "      <td>1735</td>\n",
       "      <td>41</td>\n",
       "      <td>7253</td>\n",
       "    </tr>\n",
       "  </tbody>\n",
       "</table>\n",
       "</div>"
      ],
      "text/plain": [
       "        city  area  rooms  bathroom  parking spaces  floor     animal  \\\n",
       "0  São Paulo    70      2         1               1    7.0      acept   \n",
       "1  São Paulo   320      4         4               0   20.0      acept   \n",
       "4  São Paulo    25      1         1               0    1.0  not acept   \n",
       "5  São Paulo   376      3         3               7    7.0      acept   \n",
       "7  São Paulo   213      4         4               4    4.0      acept   \n",
       "\n",
       "       furniture  hoa (R$)  rent amount (R$)  property tax (R$)  \\\n",
       "0      furnished      2065              3300                211   \n",
       "1  not furnished      1200              4960               1750   \n",
       "4  not furnished         0               800                 25   \n",
       "5  not furnished         0              8000                834   \n",
       "7  not furnished      2254              3223               1735   \n",
       "\n",
       "   fire insurance (R$)  total (R$)  \n",
       "0                   42        5618  \n",
       "1                   63        7973  \n",
       "4                   11         836  \n",
       "5                  121        8955  \n",
       "7                   41        7253  "
      ]
     },
     "execution_count": 122,
     "metadata": {},
     "output_type": "execute_result"
    }
   ],
   "source": [
    "precoAluguelImoveisSP_df.head()"
   ]
  },
  {
   "cell_type": "code",
   "execution_count": 123,
   "id": "832f7088",
   "metadata": {},
   "outputs": [
    {
     "name": "stdout",
     "output_type": "stream",
     "text": [
      "<class 'pandas.core.frame.DataFrame'>\n",
      "Int64Index: 5887 entries, 0 to 10691\n",
      "Data columns (total 13 columns):\n",
      " #   Column               Non-Null Count  Dtype  \n",
      "---  ------               --------------  -----  \n",
      " 0   city                 5887 non-null   object \n",
      " 1   area                 5887 non-null   int64  \n",
      " 2   rooms                5887 non-null   int64  \n",
      " 3   bathroom             5887 non-null   int64  \n",
      " 4   parking spaces       5887 non-null   int64  \n",
      " 5   floor                5887 non-null   float64\n",
      " 6   animal               5887 non-null   object \n",
      " 7   furniture            5887 non-null   object \n",
      " 8   hoa (R$)             5887 non-null   int64  \n",
      " 9   rent amount (R$)     5887 non-null   int64  \n",
      " 10  property tax (R$)    5887 non-null   int64  \n",
      " 11  fire insurance (R$)  5887 non-null   int64  \n",
      " 12  total (R$)           5887 non-null   int64  \n",
      "dtypes: float64(1), int64(9), object(3)\n",
      "memory usage: 643.9+ KB\n"
     ]
    }
   ],
   "source": [
    "precoAluguelImoveisSP_df.info()"
   ]
  },
  {
   "cell_type": "markdown",
   "id": "feb5dbdf",
   "metadata": {},
   "source": [
    "# Entender os dados e corrigir"
   ]
  },
  {
   "cell_type": "code",
   "execution_count": 124,
   "id": "c99cde3d",
   "metadata": {
    "scrolled": true
   },
   "outputs": [
    {
     "data": {
      "text/html": [
       "<div>\n",
       "<style scoped>\n",
       "    .dataframe tbody tr th:only-of-type {\n",
       "        vertical-align: middle;\n",
       "    }\n",
       "\n",
       "    .dataframe tbody tr th {\n",
       "        vertical-align: top;\n",
       "    }\n",
       "\n",
       "    .dataframe thead th {\n",
       "        text-align: right;\n",
       "    }\n",
       "</style>\n",
       "<table border=\"1\" class=\"dataframe\">\n",
       "  <thead>\n",
       "    <tr style=\"text-align: right;\">\n",
       "      <th></th>\n",
       "      <th>count</th>\n",
       "      <th>mean</th>\n",
       "      <th>std</th>\n",
       "      <th>min</th>\n",
       "      <th>25%</th>\n",
       "      <th>50%</th>\n",
       "      <th>75%</th>\n",
       "      <th>max</th>\n",
       "    </tr>\n",
       "  </thead>\n",
       "  <tbody>\n",
       "    <tr>\n",
       "      <th>area</th>\n",
       "      <td>5887.0</td>\n",
       "      <td>158.899439</td>\n",
       "      <td>347.474169</td>\n",
       "      <td>11.0</td>\n",
       "      <td>59.0</td>\n",
       "      <td>106.0</td>\n",
       "      <td>212.0</td>\n",
       "      <td>24606.0</td>\n",
       "    </tr>\n",
       "    <tr>\n",
       "      <th>rooms</th>\n",
       "      <td>5887.0</td>\n",
       "      <td>2.558859</td>\n",
       "      <td>1.166365</td>\n",
       "      <td>1.0</td>\n",
       "      <td>2.0</td>\n",
       "      <td>3.0</td>\n",
       "      <td>3.0</td>\n",
       "      <td>10.0</td>\n",
       "    </tr>\n",
       "    <tr>\n",
       "      <th>bathroom</th>\n",
       "      <td>5887.0</td>\n",
       "      <td>2.467641</td>\n",
       "      <td>1.503060</td>\n",
       "      <td>1.0</td>\n",
       "      <td>1.0</td>\n",
       "      <td>2.0</td>\n",
       "      <td>4.0</td>\n",
       "      <td>10.0</td>\n",
       "    </tr>\n",
       "    <tr>\n",
       "      <th>parking spaces</th>\n",
       "      <td>5887.0</td>\n",
       "      <td>1.877527</td>\n",
       "      <td>1.687973</td>\n",
       "      <td>0.0</td>\n",
       "      <td>1.0</td>\n",
       "      <td>1.0</td>\n",
       "      <td>3.0</td>\n",
       "      <td>12.0</td>\n",
       "    </tr>\n",
       "    <tr>\n",
       "      <th>hoa (R$)</th>\n",
       "      <td>5887.0</td>\n",
       "      <td>1169.627994</td>\n",
       "      <td>4076.461180</td>\n",
       "      <td>0.0</td>\n",
       "      <td>0.0</td>\n",
       "      <td>665.0</td>\n",
       "      <td>1608.5</td>\n",
       "      <td>220000.0</td>\n",
       "    </tr>\n",
       "    <tr>\n",
       "      <th>property tax (R$)</th>\n",
       "      <td>5887.0</td>\n",
       "      <td>495.701716</td>\n",
       "      <td>4153.618928</td>\n",
       "      <td>0.0</td>\n",
       "      <td>37.0</td>\n",
       "      <td>170.0</td>\n",
       "      <td>550.0</td>\n",
       "      <td>313700.0</td>\n",
       "    </tr>\n",
       "    <tr>\n",
       "      <th>fire insurance (R$)</th>\n",
       "      <td>5887.0</td>\n",
       "      <td>62.428911</td>\n",
       "      <td>50.073429</td>\n",
       "      <td>4.0</td>\n",
       "      <td>26.0</td>\n",
       "      <td>45.0</td>\n",
       "      <td>83.0</td>\n",
       "      <td>677.0</td>\n",
       "    </tr>\n",
       "    <tr>\n",
       "      <th>total (R$)</th>\n",
       "      <td>5887.0</td>\n",
       "      <td>6380.831833</td>\n",
       "      <td>7541.320897</td>\n",
       "      <td>508.0</td>\n",
       "      <td>2631.0</td>\n",
       "      <td>4596.0</td>\n",
       "      <td>8591.0</td>\n",
       "      <td>316900.0</td>\n",
       "    </tr>\n",
       "  </tbody>\n",
       "</table>\n",
       "</div>"
      ],
      "text/plain": [
       "                      count         mean          std    min     25%     50%  \\\n",
       "area                 5887.0   158.899439   347.474169   11.0    59.0   106.0   \n",
       "rooms                5887.0     2.558859     1.166365    1.0     2.0     3.0   \n",
       "bathroom             5887.0     2.467641     1.503060    1.0     1.0     2.0   \n",
       "parking spaces       5887.0     1.877527     1.687973    0.0     1.0     1.0   \n",
       "hoa (R$)             5887.0  1169.627994  4076.461180    0.0     0.0   665.0   \n",
       "property tax (R$)    5887.0   495.701716  4153.618928    0.0    37.0   170.0   \n",
       "fire insurance (R$)  5887.0    62.428911    50.073429    4.0    26.0    45.0   \n",
       "total (R$)           5887.0  6380.831833  7541.320897  508.0  2631.0  4596.0   \n",
       "\n",
       "                        75%       max  \n",
       "area                  212.0   24606.0  \n",
       "rooms                   3.0      10.0  \n",
       "bathroom                4.0      10.0  \n",
       "parking spaces          3.0      12.0  \n",
       "hoa (R$)             1608.5  220000.0  \n",
       "property tax (R$)     550.0  313700.0  \n",
       "fire insurance (R$)    83.0     677.0  \n",
       "total (R$)           8591.0  316900.0  "
      ]
     },
     "execution_count": 124,
     "metadata": {},
     "output_type": "execute_result"
    }
   ],
   "source": [
    "precoAluguelImoveisSP_df[['area','rooms','bathroom', 'parking spaces', 'hoa (R$)', 'property tax (R$)', 'fire insurance (R$)', 'total (R$)']].describe().T"
   ]
  },
  {
   "cell_type": "markdown",
   "id": "c7ab2b06",
   "metadata": {},
   "source": [
    "## total"
   ]
  },
  {
   "cell_type": "code",
   "execution_count": 125,
   "id": "603fbe8b",
   "metadata": {},
   "outputs": [
    {
     "data": {
      "image/png": "[encoded data removed]",
      "text/plain": [
       "<Figure size 640x480 with 1 Axes>"
      ]
     },
     "metadata": {},
     "output_type": "display_data"
    }
   ],
   "source": [
    "with sns.axes_style('whitegrid'):\n",
    "    grafico = sns.boxplot(x=precoAluguelImoveisSP_df[\"total (R$)\"])\n",
    "    grafico.set(title='Distribuição de Preço total do aluguel', xlabel='Preço');\n"
   ]
  },
  {
   "cell_type": "markdown",
   "id": "7f1e7b26",
   "metadata": {},
   "source": [
    "Existe alguns outliers em relação ao preço dos imoveis, isso se dá a imóveis muito grandes em condominios caros removerei esses outliers dos dados pois o objetivo aqui é ver os imóveis que são comumente alugadas pela maioria da população, e os dados mostram que 75% das amostras estão com aluguel abaixo de 8591R$, logo vou retirar todos os dados que estão acima dos 75%."
   ]
  },
  {
   "cell_type": "code",
   "execution_count": 126,
   "id": "fcca1656",
   "metadata": {},
   "outputs": [],
   "source": [
    "# Remover outliers\n",
    "precoAluguelImoveisSP_df = precoAluguelImoveisSP_df[\n",
    "    (precoAluguelImoveisSP_df['total (R$)'] >= 0) &\n",
    "    (precoAluguelImoveisSP_df['total (R$)'] <= 8591)\n",
    "]"
   ]
  },
  {
   "cell_type": "code",
   "execution_count": 127,
   "id": "38e2da8e",
   "metadata": {},
   "outputs": [
    {
     "data": {
      "text/html": [
       "<div>\n",
       "<style scoped>\n",
       "    .dataframe tbody tr th:only-of-type {\n",
       "        vertical-align: middle;\n",
       "    }\n",
       "\n",
       "    .dataframe tbody tr th {\n",
       "        vertical-align: top;\n",
       "    }\n",
       "\n",
       "    .dataframe thead th {\n",
       "        text-align: right;\n",
       "    }\n",
       "</style>\n",
       "<table border=\"1\" class=\"dataframe\">\n",
       "  <thead>\n",
       "    <tr style=\"text-align: right;\">\n",
       "      <th></th>\n",
       "      <th>count</th>\n",
       "      <th>mean</th>\n",
       "      <th>std</th>\n",
       "      <th>min</th>\n",
       "      <th>25%</th>\n",
       "      <th>50%</th>\n",
       "      <th>75%</th>\n",
       "      <th>max</th>\n",
       "    </tr>\n",
       "  </thead>\n",
       "  <tbody>\n",
       "    <tr>\n",
       "      <th>total (R$)</th>\n",
       "      <td>4415.0</td>\n",
       "      <td>3899.22265</td>\n",
       "      <td>1994.216507</td>\n",
       "      <td>508.0</td>\n",
       "      <td>2286.0</td>\n",
       "      <td>3550.0</td>\n",
       "      <td>5268.5</td>\n",
       "      <td>8590.0</td>\n",
       "    </tr>\n",
       "  </tbody>\n",
       "</table>\n",
       "</div>"
      ],
      "text/plain": [
       "             count        mean          std    min     25%     50%     75%  \\\n",
       "total (R$)  4415.0  3899.22265  1994.216507  508.0  2286.0  3550.0  5268.5   \n",
       "\n",
       "               max  \n",
       "total (R$)  8590.0  "
      ]
     },
     "execution_count": 127,
     "metadata": {},
     "output_type": "execute_result"
    }
   ],
   "source": [
    "precoAluguelImoveisSP_df[['total (R$)']].describe().T"
   ]
  },
  {
   "cell_type": "code",
   "execution_count": 128,
   "id": "fdeefd63",
   "metadata": {},
   "outputs": [
    {
     "data": {
      "image/png": "[encoded data removed]",
      "text/plain": [
       "<Figure size 640x480 with 1 Axes>"
      ]
     },
     "metadata": {},
     "output_type": "display_data"
    }
   ],
   "source": [
    "with sns.axes_style('whitegrid'):\n",
    "    grafico = sns.boxplot(x=precoAluguelImoveisSP_df[\"total (R$)\"])\n",
    "    grafico.set(title='Distribuição de Preço total do aluguel', xlabel='Preço');\n"
   ]
  },
  {
   "cell_type": "markdown",
   "id": "9c15a82b",
   "metadata": {},
   "source": [
    "## Área"
   ]
  },
  {
   "cell_type": "code",
   "execution_count": 129,
   "id": "00370a70",
   "metadata": {},
   "outputs": [
    {
     "data": {
      "image/png": "[encoded data removed]",
      "text/plain": [
       "<Figure size 640x480 with 1 Axes>"
      ]
     },
     "metadata": {},
     "output_type": "display_data"
    }
   ],
   "source": [
    "with sns.axes_style('whitegrid'):\n",
    "    grafico = sns.boxplot(x=precoAluguelImoveisSP_df[\"area\"])\n",
    "    grafico.set(title='Distribuição de Área por m²', xlabel='Área');\n"
   ]
  },
  {
   "cell_type": "code",
   "execution_count": 130,
   "id": "b4883645",
   "metadata": {},
   "outputs": [
    {
     "data": {
      "text/html": [
       "<div>\n",
       "<style scoped>\n",
       "    .dataframe tbody tr th:only-of-type {\n",
       "        vertical-align: middle;\n",
       "    }\n",
       "\n",
       "    .dataframe tbody tr th {\n",
       "        vertical-align: top;\n",
       "    }\n",
       "\n",
       "    .dataframe thead th {\n",
       "        text-align: right;\n",
       "    }\n",
       "</style>\n",
       "<table border=\"1\" class=\"dataframe\">\n",
       "  <thead>\n",
       "    <tr style=\"text-align: right;\">\n",
       "      <th></th>\n",
       "      <th>count</th>\n",
       "      <th>mean</th>\n",
       "      <th>std</th>\n",
       "      <th>min</th>\n",
       "      <th>25%</th>\n",
       "      <th>50%</th>\n",
       "      <th>75%</th>\n",
       "      <th>max</th>\n",
       "    </tr>\n",
       "  </thead>\n",
       "  <tbody>\n",
       "    <tr>\n",
       "      <th>area</th>\n",
       "      <td>4415.0</td>\n",
       "      <td>107.038052</td>\n",
       "      <td>85.165174</td>\n",
       "      <td>11.0</td>\n",
       "      <td>50.0</td>\n",
       "      <td>78.0</td>\n",
       "      <td>136.0</td>\n",
       "      <td>830.0</td>\n",
       "    </tr>\n",
       "  </tbody>\n",
       "</table>\n",
       "</div>"
      ],
      "text/plain": [
       "       count        mean        std   min   25%   50%    75%    max\n",
       "area  4415.0  107.038052  85.165174  11.0  50.0  78.0  136.0  830.0"
      ]
     },
     "execution_count": 130,
     "metadata": {},
     "output_type": "execute_result"
    }
   ],
   "source": [
    "precoAluguelImoveisSP_df[['area']].describe().T"
   ]
  },
  {
   "cell_type": "markdown",
   "id": "c3fcd16c",
   "metadata": {},
   "source": [
    "Existe alguns outliers em relação a área dos imoveis, é perceptivel que 75% dos imoveis tem menos de 150 m², mas existem maiores que ele chegando em maximo de 830 metros quadrados, o que está muito descrepante e fazendo os dados ter uma grande variação.\n",
    "Logo vou remover esses outliers para não causar tanta variação nos dados.\n",
    "removerei os dados acima de 75%."
   ]
  },
  {
   "cell_type": "code",
   "execution_count": 131,
   "id": "49726b9f",
   "metadata": {},
   "outputs": [],
   "source": [
    "# Remover outliers\n",
    "precoAluguelImoveisSP_df = precoAluguelImoveisSP_df[\n",
    "    (precoAluguelImoveisSP_df['area'] >= 0) &\n",
    "    (precoAluguelImoveisSP_df['area'] <= 136.0)\n",
    "]"
   ]
  },
  {
   "cell_type": "code",
   "execution_count": 132,
   "id": "eb331aac",
   "metadata": {},
   "outputs": [
    {
     "data": {
      "text/html": [
       "<div>\n",
       "<style scoped>\n",
       "    .dataframe tbody tr th:only-of-type {\n",
       "        vertical-align: middle;\n",
       "    }\n",
       "\n",
       "    .dataframe tbody tr th {\n",
       "        vertical-align: top;\n",
       "    }\n",
       "\n",
       "    .dataframe thead th {\n",
       "        text-align: right;\n",
       "    }\n",
       "</style>\n",
       "<table border=\"1\" class=\"dataframe\">\n",
       "  <thead>\n",
       "    <tr style=\"text-align: right;\">\n",
       "      <th></th>\n",
       "      <th>count</th>\n",
       "      <th>mean</th>\n",
       "      <th>std</th>\n",
       "      <th>min</th>\n",
       "      <th>25%</th>\n",
       "      <th>50%</th>\n",
       "      <th>75%</th>\n",
       "      <th>max</th>\n",
       "    </tr>\n",
       "  </thead>\n",
       "  <tbody>\n",
       "    <tr>\n",
       "      <th>area</th>\n",
       "      <td>3318.0</td>\n",
       "      <td>67.713382</td>\n",
       "      <td>30.138963</td>\n",
       "      <td>11.0</td>\n",
       "      <td>45.0</td>\n",
       "      <td>63.0</td>\n",
       "      <td>90.0</td>\n",
       "      <td>136.0</td>\n",
       "    </tr>\n",
       "  </tbody>\n",
       "</table>\n",
       "</div>"
      ],
      "text/plain": [
       "       count       mean        std   min   25%   50%   75%    max\n",
       "area  3318.0  67.713382  30.138963  11.0  45.0  63.0  90.0  136.0"
      ]
     },
     "execution_count": 132,
     "metadata": {},
     "output_type": "execute_result"
    }
   ],
   "source": [
    "precoAluguelImoveisSP_df[['area']].describe().T"
   ]
  },
  {
   "cell_type": "code",
   "execution_count": 133,
   "id": "9cb8d310",
   "metadata": {},
   "outputs": [
    {
     "data": {
      "image/png": "[encoded data removed]",
      "text/plain": [
       "<Figure size 640x480 with 1 Axes>"
      ]
     },
     "metadata": {},
     "output_type": "display_data"
    }
   ],
   "source": [
    "with sns.axes_style('whitegrid'):\n",
    "    grafico = sns.boxplot(x=precoAluguelImoveisSP_df[\"area\"])\n",
    "    grafico.set(title='Distribuição de Área por m²', xlabel='Área');"
   ]
  },
  {
   "cell_type": "markdown",
   "id": "11120832",
   "metadata": {},
   "source": [
    "## Valor Condominio"
   ]
  },
  {
   "cell_type": "code",
   "execution_count": 134,
   "id": "fc63a477",
   "metadata": {},
   "outputs": [
    {
     "data": {
      "image/png": "[encoded data removed]",
      "text/plain": [
       "<Figure size 640x480 with 1 Axes>"
      ]
     },
     "metadata": {},
     "output_type": "display_data"
    }
   ],
   "source": [
    "with sns.axes_style('whitegrid'):\n",
    "    grafico = sns.boxplot(x=precoAluguelImoveisSP_df[\"hoa (R$)\"])\n",
    "    grafico.set(title='Distribuição de Preço do condominio', xlabel='Preço');\n"
   ]
  },
  {
   "cell_type": "code",
   "execution_count": 135,
   "id": "88bbd270",
   "metadata": {},
   "outputs": [
    {
     "data": {
      "text/html": [
       "<div>\n",
       "<style scoped>\n",
       "    .dataframe tbody tr th:only-of-type {\n",
       "        vertical-align: middle;\n",
       "    }\n",
       "\n",
       "    .dataframe tbody tr th {\n",
       "        vertical-align: top;\n",
       "    }\n",
       "\n",
       "    .dataframe thead th {\n",
       "        text-align: right;\n",
       "    }\n",
       "</style>\n",
       "<table border=\"1\" class=\"dataframe\">\n",
       "  <thead>\n",
       "    <tr style=\"text-align: right;\">\n",
       "      <th></th>\n",
       "      <th>count</th>\n",
       "      <th>mean</th>\n",
       "      <th>std</th>\n",
       "      <th>min</th>\n",
       "      <th>25%</th>\n",
       "      <th>50%</th>\n",
       "      <th>75%</th>\n",
       "      <th>max</th>\n",
       "    </tr>\n",
       "  </thead>\n",
       "  <tbody>\n",
       "    <tr>\n",
       "      <th>hoa (R$)</th>\n",
       "      <td>3318.0</td>\n",
       "      <td>633.119048</td>\n",
       "      <td>546.007548</td>\n",
       "      <td>0.0</td>\n",
       "      <td>250.0</td>\n",
       "      <td>550.0</td>\n",
       "      <td>900.0</td>\n",
       "      <td>4320.0</td>\n",
       "    </tr>\n",
       "  </tbody>\n",
       "</table>\n",
       "</div>"
      ],
      "text/plain": [
       "           count        mean         std  min    25%    50%    75%     max\n",
       "hoa (R$)  3318.0  633.119048  546.007548  0.0  250.0  550.0  900.0  4320.0"
      ]
     },
     "execution_count": 135,
     "metadata": {},
     "output_type": "execute_result"
    }
   ],
   "source": [
    "precoAluguelImoveisSP_df[['hoa (R$)']].describe().T"
   ]
  },
  {
   "cell_type": "markdown",
   "id": "80e23f88",
   "metadata": {},
   "source": [
    "Novamente os preços até 75% estão relativamente baixo em comparação com o preço maximo, vai ser seguida a mesma abordagem das vezes anteriores"
   ]
  },
  {
   "cell_type": "code",
   "execution_count": 136,
   "id": "c2ae59e4",
   "metadata": {},
   "outputs": [],
   "source": [
    "# Remover outliers\n",
    "precoAluguelImoveisSP_df = precoAluguelImoveisSP_df[\n",
    "    (precoAluguelImoveisSP_df['hoa (R$)'] >= 0) &\n",
    "    (precoAluguelImoveisSP_df['hoa (R$)'] <= 900)\n",
    "]"
   ]
  },
  {
   "cell_type": "code",
   "execution_count": 137,
   "id": "6ecbf056",
   "metadata": {},
   "outputs": [
    {
     "data": {
      "text/html": [
       "<div>\n",
       "<style scoped>\n",
       "    .dataframe tbody tr th:only-of-type {\n",
       "        vertical-align: middle;\n",
       "    }\n",
       "\n",
       "    .dataframe tbody tr th {\n",
       "        vertical-align: top;\n",
       "    }\n",
       "\n",
       "    .dataframe thead th {\n",
       "        text-align: right;\n",
       "    }\n",
       "</style>\n",
       "<table border=\"1\" class=\"dataframe\">\n",
       "  <thead>\n",
       "    <tr style=\"text-align: right;\">\n",
       "      <th></th>\n",
       "      <th>count</th>\n",
       "      <th>mean</th>\n",
       "      <th>std</th>\n",
       "      <th>min</th>\n",
       "      <th>25%</th>\n",
       "      <th>50%</th>\n",
       "      <th>75%</th>\n",
       "      <th>max</th>\n",
       "    </tr>\n",
       "  </thead>\n",
       "  <tbody>\n",
       "    <tr>\n",
       "      <th>hoa (R$)</th>\n",
       "      <td>2496.0</td>\n",
       "      <td>387.819712</td>\n",
       "      <td>291.656996</td>\n",
       "      <td>0.0</td>\n",
       "      <td>0.0</td>\n",
       "      <td>428.0</td>\n",
       "      <td>616.0</td>\n",
       "      <td>900.0</td>\n",
       "    </tr>\n",
       "  </tbody>\n",
       "</table>\n",
       "</div>"
      ],
      "text/plain": [
       "           count        mean         std  min  25%    50%    75%    max\n",
       "hoa (R$)  2496.0  387.819712  291.656996  0.0  0.0  428.0  616.0  900.0"
      ]
     },
     "execution_count": 137,
     "metadata": {},
     "output_type": "execute_result"
    }
   ],
   "source": [
    "precoAluguelImoveisSP_df[['hoa (R$)']].describe().T"
   ]
  },
  {
   "cell_type": "code",
   "execution_count": 138,
   "id": "fbc8c423",
   "metadata": {},
   "outputs": [
    {
     "data": {
      "image/png": "[encoded data removed]",
      "text/plain": [
       "<Figure size 640x480 with 1 Axes>"
      ]
     },
     "metadata": {},
     "output_type": "display_data"
    }
   ],
   "source": [
    "with sns.axes_style('whitegrid'):\n",
    "    grafico = sns.boxplot(x=precoAluguelImoveisSP_df[\"hoa (R$)\"])\n",
    "    grafico.set(title='Distribuição de Preço do condominio', xlabel='Preço');\n"
   ]
  },
  {
   "cell_type": "markdown",
   "id": "2121d753",
   "metadata": {},
   "source": [
    "## Mudanças Gerais dos Dados depois das manipulações"
   ]
  },
  {
   "cell_type": "code",
   "execution_count": 139,
   "id": "3cbc50bc",
   "metadata": {},
   "outputs": [
    {
     "data": {
      "text/html": [
       "<div>\n",
       "<style scoped>\n",
       "    .dataframe tbody tr th:only-of-type {\n",
       "        vertical-align: middle;\n",
       "    }\n",
       "\n",
       "    .dataframe tbody tr th {\n",
       "        vertical-align: top;\n",
       "    }\n",
       "\n",
       "    .dataframe thead th {\n",
       "        text-align: right;\n",
       "    }\n",
       "</style>\n",
       "<table border=\"1\" class=\"dataframe\">\n",
       "  <thead>\n",
       "    <tr style=\"text-align: right;\">\n",
       "      <th></th>\n",
       "      <th>count</th>\n",
       "      <th>mean</th>\n",
       "      <th>std</th>\n",
       "      <th>min</th>\n",
       "      <th>25%</th>\n",
       "      <th>50%</th>\n",
       "      <th>75%</th>\n",
       "      <th>max</th>\n",
       "    </tr>\n",
       "  </thead>\n",
       "  <tbody>\n",
       "    <tr>\n",
       "      <th>area</th>\n",
       "      <td>2496.0</td>\n",
       "      <td>60.307292</td>\n",
       "      <td>26.415239</td>\n",
       "      <td>11.0</td>\n",
       "      <td>40.0</td>\n",
       "      <td>56.0</td>\n",
       "      <td>75.00</td>\n",
       "      <td>136.0</td>\n",
       "    </tr>\n",
       "    <tr>\n",
       "      <th>rooms</th>\n",
       "      <td>2496.0</td>\n",
       "      <td>1.730769</td>\n",
       "      <td>0.748299</td>\n",
       "      <td>1.0</td>\n",
       "      <td>1.0</td>\n",
       "      <td>2.0</td>\n",
       "      <td>2.00</td>\n",
       "      <td>7.0</td>\n",
       "    </tr>\n",
       "    <tr>\n",
       "      <th>bathroom</th>\n",
       "      <td>2496.0</td>\n",
       "      <td>1.360176</td>\n",
       "      <td>0.620686</td>\n",
       "      <td>1.0</td>\n",
       "      <td>1.0</td>\n",
       "      <td>1.0</td>\n",
       "      <td>2.00</td>\n",
       "      <td>7.0</td>\n",
       "    </tr>\n",
       "    <tr>\n",
       "      <th>parking spaces</th>\n",
       "      <td>2496.0</td>\n",
       "      <td>0.764824</td>\n",
       "      <td>0.785885</td>\n",
       "      <td>0.0</td>\n",
       "      <td>0.0</td>\n",
       "      <td>1.0</td>\n",
       "      <td>1.00</td>\n",
       "      <td>8.0</td>\n",
       "    </tr>\n",
       "    <tr>\n",
       "      <th>hoa (R$)</th>\n",
       "      <td>2496.0</td>\n",
       "      <td>387.819712</td>\n",
       "      <td>291.656996</td>\n",
       "      <td>0.0</td>\n",
       "      <td>0.0</td>\n",
       "      <td>428.0</td>\n",
       "      <td>616.00</td>\n",
       "      <td>900.0</td>\n",
       "    </tr>\n",
       "    <tr>\n",
       "      <th>property tax (R$)</th>\n",
       "      <td>2496.0</td>\n",
       "      <td>73.960337</td>\n",
       "      <td>107.210001</td>\n",
       "      <td>0.0</td>\n",
       "      <td>0.0</td>\n",
       "      <td>47.0</td>\n",
       "      <td>110.25</td>\n",
       "      <td>3000.0</td>\n",
       "    </tr>\n",
       "    <tr>\n",
       "      <th>fire insurance (R$)</th>\n",
       "      <td>2496.0</td>\n",
       "      <td>29.377003</td>\n",
       "      <td>15.352586</td>\n",
       "      <td>4.0</td>\n",
       "      <td>19.0</td>\n",
       "      <td>26.0</td>\n",
       "      <td>36.00</td>\n",
       "      <td>112.0</td>\n",
       "    </tr>\n",
       "    <tr>\n",
       "      <th>total (R$)</th>\n",
       "      <td>2496.0</td>\n",
       "      <td>2716.981971</td>\n",
       "      <td>1301.768845</td>\n",
       "      <td>508.0</td>\n",
       "      <td>1799.0</td>\n",
       "      <td>2486.0</td>\n",
       "      <td>3408.25</td>\n",
       "      <td>8588.0</td>\n",
       "    </tr>\n",
       "  </tbody>\n",
       "</table>\n",
       "</div>"
      ],
      "text/plain": [
       "                      count         mean          std    min     25%     50%  \\\n",
       "area                 2496.0    60.307292    26.415239   11.0    40.0    56.0   \n",
       "rooms                2496.0     1.730769     0.748299    1.0     1.0     2.0   \n",
       "bathroom             2496.0     1.360176     0.620686    1.0     1.0     1.0   \n",
       "parking spaces       2496.0     0.764824     0.785885    0.0     0.0     1.0   \n",
       "hoa (R$)             2496.0   387.819712   291.656996    0.0     0.0   428.0   \n",
       "property tax (R$)    2496.0    73.960337   107.210001    0.0     0.0    47.0   \n",
       "fire insurance (R$)  2496.0    29.377003    15.352586    4.0    19.0    26.0   \n",
       "total (R$)           2496.0  2716.981971  1301.768845  508.0  1799.0  2486.0   \n",
       "\n",
       "                         75%     max  \n",
       "area                   75.00   136.0  \n",
       "rooms                   2.00     7.0  \n",
       "bathroom                2.00     7.0  \n",
       "parking spaces          1.00     8.0  \n",
       "hoa (R$)              616.00   900.0  \n",
       "property tax (R$)     110.25  3000.0  \n",
       "fire insurance (R$)    36.00   112.0  \n",
       "total (R$)           3408.25  8588.0  "
      ]
     },
     "execution_count": 139,
     "metadata": {},
     "output_type": "execute_result"
    }
   ],
   "source": [
    "precoAluguelImoveisSP_df[['area','rooms','bathroom', 'parking spaces', 'hoa (R$)', 'property tax (R$)', 'fire insurance (R$)', 'total (R$)']].describe().T"
   ]
  },
  {
   "cell_type": "markdown",
   "id": "f5314682",
   "metadata": {},
   "source": [
    "### Total do aluguel"
   ]
  },
  {
   "cell_type": "code",
   "execution_count": 140,
   "id": "6a831b3d",
   "metadata": {},
   "outputs": [
    {
     "data": {
      "image/png": "[encoded data removed]",
      "text/plain": [
       "<Figure size 640x480 with 1 Axes>"
      ]
     },
     "metadata": {},
     "output_type": "display_data"
    }
   ],
   "source": [
    "with sns.axes_style('whitegrid'):\n",
    "    grafico = sns.boxplot(x=precoAluguelImoveisSP_df[\"total (R$)\"])\n",
    "    grafico.set(title='Distribuição de Preço total do aluguel', xlabel='Preço');\n"
   ]
  },
  {
   "cell_type": "markdown",
   "id": "481bf3bd",
   "metadata": {},
   "source": [
    "# Responder as Perguntas"
   ]
  },
  {
   "cell_type": "markdown",
   "id": "515a0f87",
   "metadata": {},
   "source": [
    "## Perguntas\n",
    "- Permitir Animais de estimação aumenta o preço do aluguel?\n",
    "- Permitir Animais de estimação tem relação com o tamanho do imóvel?\n",
    "- Existe uma correlação entre a quantidade de quartos e o valor do condomínio?\n",
    "- Existe uma correlação entre a quantidade de garagens e o valor do seguro contra incêndio?"
   ]
  },
  {
   "cell_type": "markdown",
   "id": "04580e12",
   "metadata": {},
   "source": [
    "## Permitir Animais de estimação aumenta o preço do aluguel?"
   ]
  },
  {
   "cell_type": "code",
   "execution_count": 165,
   "id": "b2426b6a",
   "metadata": {},
   "outputs": [
    {
     "data": {
      "text/html": [
       "<div>\n",
       "<style scoped>\n",
       "    .dataframe tbody tr th:only-of-type {\n",
       "        vertical-align: middle;\n",
       "    }\n",
       "\n",
       "    .dataframe tbody tr th {\n",
       "        vertical-align: top;\n",
       "    }\n",
       "\n",
       "    .dataframe thead th {\n",
       "        text-align: right;\n",
       "    }\n",
       "</style>\n",
       "<table border=\"1\" class=\"dataframe\">\n",
       "  <thead>\n",
       "    <tr style=\"text-align: right;\">\n",
       "      <th></th>\n",
       "      <th>total (R$)</th>\n",
       "    </tr>\n",
       "    <tr>\n",
       "      <th>animal</th>\n",
       "      <th></th>\n",
       "    </tr>\n",
       "  </thead>\n",
       "  <tbody>\n",
       "    <tr>\n",
       "      <th>acept</th>\n",
       "      <td>2818.049199</td>\n",
       "    </tr>\n",
       "    <tr>\n",
       "      <th>not acept</th>\n",
       "      <td>2480.798128</td>\n",
       "    </tr>\n",
       "  </tbody>\n",
       "</table>\n",
       "</div>"
      ],
      "text/plain": [
       "            total (R$)\n",
       "animal                \n",
       "acept      2818.049199\n",
       "not acept  2480.798128"
      ]
     },
     "execution_count": 165,
     "metadata": {},
     "output_type": "execute_result"
    }
   ],
   "source": [
    "precoAluguelImoveisSP_df[[\"total (R$)\", 'animal']].groupby('animal').mean()"
   ]
  },
  {
   "cell_type": "markdown",
   "id": "46c43dbd",
   "metadata": {},
   "source": [
    "Existe uma diferença na média, mas não é suficiente para tomar uma decisão."
   ]
  },
  {
   "cell_type": "code",
   "execution_count": 232,
   "id": "a249d1d4",
   "metadata": {},
   "outputs": [
    {
     "data": {
      "image/png": "[encoded data removed]",
      "text/plain": [
       "<Figure size 1400x600 with 2 Axes>"
      ]
     },
     "metadata": {},
     "output_type": "display_data"
    }
   ],
   "source": [
    "# Criando a figura e os subplots\n",
    "fig, axs = plt.subplots(1, 2, figsize=(14, 6))\n",
    "\n",
    "# Plotando o gráfico de violino no primeiro subplot\n",
    "sns.violinplot(data=precoAluguelImoveisSP_df, x='animal', y='total (R$)', ax=axs[0])\n",
    "axs[0].set_title('Distribuição dos preços de imóveis que aceitam ou não animal')\n",
    "axs[0].set_xlabel('Aceita?')\n",
    "axs[0].set_ylabel('Preço do Aluguel (R$)')\n",
    "\n",
    "# Plotando o gráfico de caixa no segundo subplot\n",
    "sns.boxplot(data=precoAluguelImoveisSP_df, x='animal', y='total (R$)', ax=axs[1])\n",
    "axs[1].set_title('Distribuição dos preços de imóveis que aceitam ou não animal')\n",
    "axs[1].set_xlabel('Aceita?')\n",
    "axs[1].set_ylabel('Preço do Aluguel (R$)')\n",
    "\n",
    "# Ajustando o layout\n",
    "plt.tight_layout()\n",
    "\n",
    "# Exibindo os gráficos\n",
    "plt.show()"
   ]
  },
  {
   "cell_type": "markdown",
   "id": "10e27b45",
   "metadata": {},
   "source": [
    "É possivel perceber que em imoveis de menor preço existem mais imóveis que não permitem animais do que imóveis que permitem, mas quando esse valor se aproxima de 2000R$, os papeis se invertem e acima disso o preço não tem tanta relevância se é ou não permitido animais."
   ]
  },
  {
   "cell_type": "markdown",
   "id": "2122a83f",
   "metadata": {},
   "source": [
    "## Permitir Animais de estimação tem relação com o tamanho do imóvel?"
   ]
  },
  {
   "cell_type": "code",
   "execution_count": 233,
   "id": "75e09807",
   "metadata": {},
   "outputs": [
    {
     "data": {
      "image/png": "[encoded data removed]",
      "text/plain": [
       "<Figure size 1400x600 with 2 Axes>"
      ]
     },
     "metadata": {},
     "output_type": "display_data"
    }
   ],
   "source": [
    "\n",
    "# Criando a figura e os subplots\n",
    "fig, axs = plt.subplots(1, 2, figsize=(14, 6))\n",
    "\n",
    "# Plotando o gráfico de violino no primeiro subplot\n",
    "sns.violinplot(data=precoAluguelImoveisSP_df, x='animal', y='area', ax=axs[0])\n",
    "axs[0].set_title('Distribuição dos preços da area de imóveis que aceitam ou não animal')\n",
    "axs[0].set_xlabel('Aceita?')\n",
    "axs[0].set_ylabel('Area em m²')\n",
    "\n",
    "# Plotando o gráfico de caixa no segundo subplot\n",
    "sns.boxplot(data=precoAluguelImoveisSP_df, x='animal', y='area', ax=axs[1])\n",
    "axs[1].set_title('Distribuição dos preços da area de imóveis que aceitam ou não animal')\n",
    "axs[1].set_xlabel('Aceita?')\n",
    "axs[1].set_ylabel('Area em m²')\n",
    "\n",
    "# Ajustando o layout\n",
    "plt.tight_layout()\n",
    "\n",
    "# Exibindo os gráficos\n",
    "plt.show()"
   ]
  },
  {
   "cell_type": "markdown",
   "id": "f06625c2",
   "metadata": {},
   "source": [
    "É possivel perceber que em imóveis de maior área existem mais imóveis que permitem animais do que imóveis que não permitem"
   ]
  },
  {
   "cell_type": "markdown",
   "id": "3cf101b2",
   "metadata": {},
   "source": [
    "## Existe uma correlação entre a quantidade de quartos e o valor do condomínio?"
   ]
  },
  {
   "cell_type": "code",
   "execution_count": 244,
   "id": "aa6f21b4",
   "metadata": {},
   "outputs": [
    {
     "name": "stdout",
     "output_type": "stream",
     "text": [
      "Correlação entre Quantidade de quartos e valor do condominio: 0.11411201488166696\n"
     ]
    },
    {
     "data": {
      "image/png": "[encoded data removed]",
      "text/plain": [
       "<Figure size 640x480 with 1 Axes>"
      ]
     },
     "metadata": {},
     "output_type": "display_data"
    }
   ],
   "source": [
    "\n",
    "# Calculando a correlação entre as variáveis X e Y\n",
    "correlation = precoAluguelImoveisSP_df['rooms'].corr(precoAluguelImoveisSP_df['hoa (R$)'])\n",
    "\n",
    "print(\"Correlação entre Quantidade de quartos e valor do condominio:\", correlation)\n",
    "\n",
    "\n",
    "# # Plotando o gráfico de dispersão com Seaborn\n",
    "sns.scatterplot(data=precoAluguelImoveisSP_df, x='hoa (R$)', y='rooms')\n",
    "plt.title('Gráfico de Dispersão: quartos vs. condominio R$')\n",
    "plt.xlabel('Valor do condominio(R$) ')\n",
    "plt.ylabel('Número de Quartos')\n",
    "plt.show()"
   ]
  },
  {
   "cell_type": "markdown",
   "id": "ff41408e",
   "metadata": {},
   "source": [
    "Valor da correlação proximo de zero, indicando que a relação é quase inexistente."
   ]
  },
  {
   "cell_type": "markdown",
   "id": "51b895ee",
   "metadata": {},
   "source": [
    "## Existe uma correlação entre a quantidade de garagens e o valor do seguro contra incêndio?"
   ]
  },
  {
   "cell_type": "code",
   "execution_count": 243,
   "id": "e8d0735d",
   "metadata": {},
   "outputs": [
    {
     "name": "stdout",
     "output_type": "stream",
     "text": [
      "Correlação entre Quantidade de quartos e valor do condominio: 0.3555547045991208\n"
     ]
    },
    {
     "data": {
      "image/png": "[encoded data removed]",
      "text/plain": [
       "<Figure size 640x480 with 1 Axes>"
      ]
     },
     "metadata": {},
     "output_type": "display_data"
    }
   ],
   "source": [
    "\n",
    "# Calculando a correlação entre as variáveis X e Y\n",
    "correlation = precoAluguelImoveisSP_df['parking spaces'].corr(precoAluguelImoveisSP_df['fire insurance (R$)'])\n",
    "\n",
    "print(\"Correlação entre Quantidade de quartos e valor do condominio:\", correlation)\n",
    "\n",
    "\n",
    "# # Plotando o gráfico de dispersão com Seaborn\n",
    "sns.scatterplot(data=precoAluguelImoveisSP_df, x='fire insurance (R$)', y='parking spaces')\n",
    "plt.title('Gráfico de Dispersão: garagens vs. segunro contra incêndio R$')\n",
    "plt.xlabel('Valor do segunro contra incêndio R$')\n",
    "plt.ylabel('Número de garagens')\n",
    "plt.show()"
   ]
  },
  {
   "cell_type": "markdown",
   "id": "b171d16b",
   "metadata": {},
   "source": [
    "Temos uma correlação de 0.3, ou seja, muito baixa, não da para afirmar que o número de garagens afeta o valor do seguro contra incêndio."
   ]
  },
  {
   "cell_type": "code",
   "execution_count": null,
   "id": "b855ff3f",
   "metadata": {},
   "outputs": [],
   "source": []
  }
 ],
 "metadata": {
  "kernelspec": {
   "display_name": "Python 3 (ipykernel)",
   "language": "python",
   "name": "python3"
  },
  "language_info": {
   "codemirror_mode": {
    "name": "ipython",
    "version": 3
   },
   "file_extension": ".py",
   "mimetype": "text/x-python",
   "name": "python",
   "nbconvert_exporter": "python",
   "pygments_lexer": "ipython3",
   "version": "3.11.4"
  }
 },
 "nbformat": 4,
 "nbformat_minor": 5
}

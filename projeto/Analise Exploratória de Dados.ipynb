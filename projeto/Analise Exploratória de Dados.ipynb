{
 "cells": [
  {
   "cell_type": "markdown",
   "id": "01723b28",
   "metadata": {},
   "source": [
    "# Análise Exploratória de Dados"
   ]
  },
  {
   "cell_type": "markdown",
   "id": "ff921871",
   "metadata": {},
   "source": [
    "### Introdução\n",
    "\n",
    "Análise de um recorte de dados de imóveis na cidade de São Paulo onde os preços vão até 2000R$"
   ]
  },
  {
   "cell_type": "markdown",
   "id": "7fd6bd6e",
   "metadata": {},
   "source": [
    "## Dataset\n",
    "- Fonte : https://www.kaggle.com/datasets/rubenssjr/brasilian-houses-to-rent\n"
   ]
  },
  {
   "cell_type": "markdown",
   "id": "ae8c3048",
   "metadata": {},
   "source": [
    "## Informações sobre os dados\n",
    "\n",
    "- Colunas\n",
    "    - city: Nome da cidade onde os dados foram obtidos\n",
    "    - area: Área em m² do imóvel \n",
    "    - rooms: Número de Quartos\n",
    "    - bathroom:Número de Banheiros\n",
    "    - parking spaces: Quantidade de garagens\n",
    "    - floor: Andar do imovel\n",
    "    - animal: Aceita Animais domesticos?\n",
    "    - furniture: Imóvel Imobiliado?\n",
    "    - hoa (R\\$): Valor do condomínio\n",
    "    - rent amount (R\\$): Valor do Aluguel\n",
    "    - property tax (R\\$): Valor do IPTU\n",
    "    - fire insurance (R\\$): Valor do Seguro de Incêndio\n",
    "    - total (R\\$): Valor total de aluguel do imóvel"
   ]
  },
  {
   "cell_type": "markdown",
   "id": "b24f5562",
   "metadata": {},
   "source": [
    "## Objetivos\n",
    "- Os dados apresentam dados de outras cidades além de São Paulo (Rio de Janeiro, Campinas, Porto Alegre), o objetivo é fazer um recorte especifico da cidade de são Paulo com alugueis abaixo ou igual a 2000R$ e Análisar os dados"
   ]
  },
  {
   "cell_type": "markdown",
   "id": "f555b2a7",
   "metadata": {},
   "source": [
    "## Perguntas\n",
    "- Permitir Animais de estimação aumenta o preço do aluguel?\n",
    "- Permitir Animais de estimação tem relação com o tamanho do imóvel?"
   ]
  },
  {
   "cell_type": "code",
   "execution_count": 69,
   "id": "ae6ffba1",
   "metadata": {},
   "outputs": [],
   "source": [
    "# imports\n",
    "import pandas as pd\n",
    "import seaborn as sns\n",
    "import matplotlib.pyplot as plt\n",
    "\n",
    "from scipy.stats import ttest_ind"
   ]
  },
  {
   "cell_type": "code",
   "execution_count": 70,
   "id": "2e31dd34",
   "metadata": {},
   "outputs": [],
   "source": [
    "# carregar base de dados\n",
    "precoAluguelImoveisSP_df = pd.read_csv('./dados_preço_aluguel_BR.csv', sep=',')"
   ]
  },
  {
   "cell_type": "code",
   "execution_count": 71,
   "id": "e45bb4e7",
   "metadata": {
    "scrolled": true
   },
   "outputs": [
    {
     "data": {
      "text/html": [
       "<div>\n",
       "<style scoped>\n",
       "    .dataframe tbody tr th:only-of-type {\n",
       "        vertical-align: middle;\n",
       "    }\n",
       "\n",
       "    .dataframe tbody tr th {\n",
       "        vertical-align: top;\n",
       "    }\n",
       "\n",
       "    .dataframe thead th {\n",
       "        text-align: right;\n",
       "    }\n",
       "</style>\n",
       "<table border=\"1\" class=\"dataframe\">\n",
       "  <thead>\n",
       "    <tr style=\"text-align: right;\">\n",
       "      <th></th>\n",
       "      <th>city</th>\n",
       "      <th>area</th>\n",
       "      <th>rooms</th>\n",
       "      <th>bathroom</th>\n",
       "      <th>parking spaces</th>\n",
       "      <th>floor</th>\n",
       "      <th>animal</th>\n",
       "      <th>furniture</th>\n",
       "      <th>hoa (R$)</th>\n",
       "      <th>rent amount (R$)</th>\n",
       "      <th>property tax (R$)</th>\n",
       "      <th>fire insurance (R$)</th>\n",
       "      <th>total (R$)</th>\n",
       "    </tr>\n",
       "  </thead>\n",
       "  <tbody>\n",
       "    <tr>\n",
       "      <th>0</th>\n",
       "      <td>São Paulo</td>\n",
       "      <td>70</td>\n",
       "      <td>2</td>\n",
       "      <td>1</td>\n",
       "      <td>1</td>\n",
       "      <td>7</td>\n",
       "      <td>acept</td>\n",
       "      <td>furnished</td>\n",
       "      <td>2065</td>\n",
       "      <td>3300</td>\n",
       "      <td>211</td>\n",
       "      <td>42</td>\n",
       "      <td>5618</td>\n",
       "    </tr>\n",
       "    <tr>\n",
       "      <th>1</th>\n",
       "      <td>São Paulo</td>\n",
       "      <td>320</td>\n",
       "      <td>4</td>\n",
       "      <td>4</td>\n",
       "      <td>0</td>\n",
       "      <td>20</td>\n",
       "      <td>acept</td>\n",
       "      <td>not furnished</td>\n",
       "      <td>1200</td>\n",
       "      <td>4960</td>\n",
       "      <td>1750</td>\n",
       "      <td>63</td>\n",
       "      <td>7973</td>\n",
       "    </tr>\n",
       "    <tr>\n",
       "      <th>2</th>\n",
       "      <td>Porto Alegre</td>\n",
       "      <td>80</td>\n",
       "      <td>1</td>\n",
       "      <td>1</td>\n",
       "      <td>1</td>\n",
       "      <td>6</td>\n",
       "      <td>acept</td>\n",
       "      <td>not furnished</td>\n",
       "      <td>1000</td>\n",
       "      <td>2800</td>\n",
       "      <td>0</td>\n",
       "      <td>41</td>\n",
       "      <td>3841</td>\n",
       "    </tr>\n",
       "    <tr>\n",
       "      <th>3</th>\n",
       "      <td>Porto Alegre</td>\n",
       "      <td>51</td>\n",
       "      <td>2</td>\n",
       "      <td>1</td>\n",
       "      <td>0</td>\n",
       "      <td>2</td>\n",
       "      <td>acept</td>\n",
       "      <td>not furnished</td>\n",
       "      <td>270</td>\n",
       "      <td>1112</td>\n",
       "      <td>22</td>\n",
       "      <td>17</td>\n",
       "      <td>1421</td>\n",
       "    </tr>\n",
       "    <tr>\n",
       "      <th>4</th>\n",
       "      <td>São Paulo</td>\n",
       "      <td>25</td>\n",
       "      <td>1</td>\n",
       "      <td>1</td>\n",
       "      <td>0</td>\n",
       "      <td>1</td>\n",
       "      <td>not acept</td>\n",
       "      <td>not furnished</td>\n",
       "      <td>0</td>\n",
       "      <td>800</td>\n",
       "      <td>25</td>\n",
       "      <td>11</td>\n",
       "      <td>836</td>\n",
       "    </tr>\n",
       "  </tbody>\n",
       "</table>\n",
       "</div>"
      ],
      "text/plain": [
       "           city  area  rooms  bathroom  parking spaces floor     animal  \\\n",
       "0     São Paulo    70      2         1               1     7      acept   \n",
       "1     São Paulo   320      4         4               0    20      acept   \n",
       "2  Porto Alegre    80      1         1               1     6      acept   \n",
       "3  Porto Alegre    51      2         1               0     2      acept   \n",
       "4     São Paulo    25      1         1               0     1  not acept   \n",
       "\n",
       "       furniture  hoa (R$)  rent amount (R$)  property tax (R$)  \\\n",
       "0      furnished      2065              3300                211   \n",
       "1  not furnished      1200              4960               1750   \n",
       "2  not furnished      1000              2800                  0   \n",
       "3  not furnished       270              1112                 22   \n",
       "4  not furnished         0               800                 25   \n",
       "\n",
       "   fire insurance (R$)  total (R$)  \n",
       "0                   42        5618  \n",
       "1                   63        7973  \n",
       "2                   41        3841  \n",
       "3                   17        1421  \n",
       "4                   11         836  "
      ]
     },
     "execution_count": 71,
     "metadata": {},
     "output_type": "execute_result"
    }
   ],
   "source": [
    "precoAluguelImoveisSP_df.head()"
   ]
  },
  {
   "cell_type": "markdown",
   "id": "a32a87fe",
   "metadata": {},
   "source": [
    "## Pré Processamento"
   ]
  },
  {
   "cell_type": "code",
   "execution_count": 72,
   "id": "bf698148",
   "metadata": {},
   "outputs": [
    {
     "data": {
      "text/plain": [
       "(10692, 13)"
      ]
     },
     "execution_count": 72,
     "metadata": {},
     "output_type": "execute_result"
    }
   ],
   "source": [
    "precoAluguelImoveisSP_df.shape"
   ]
  },
  {
   "cell_type": "markdown",
   "id": "215bd569",
   "metadata": {},
   "source": [
    "Existe 10692 dados, levando em conta todos os alugueis de todas as cidades, primeiro será feito o recorte que se quer análisar"
   ]
  },
  {
   "cell_type": "markdown",
   "id": "6307ab43",
   "metadata": {},
   "source": [
    "### Filtrar os dados de São Paulo que vão até 2000R$"
   ]
  },
  {
   "cell_type": "code",
   "execution_count": 73,
   "id": "7d863eb1",
   "metadata": {},
   "outputs": [
    {
     "data": {
      "text/html": [
       "<div>\n",
       "<style scoped>\n",
       "    .dataframe tbody tr th:only-of-type {\n",
       "        vertical-align: middle;\n",
       "    }\n",
       "\n",
       "    .dataframe tbody tr th {\n",
       "        vertical-align: top;\n",
       "    }\n",
       "\n",
       "    .dataframe thead th {\n",
       "        text-align: right;\n",
       "    }\n",
       "</style>\n",
       "<table border=\"1\" class=\"dataframe\">\n",
       "  <thead>\n",
       "    <tr style=\"text-align: right;\">\n",
       "      <th></th>\n",
       "      <th>city</th>\n",
       "      <th>area</th>\n",
       "      <th>rooms</th>\n",
       "      <th>bathroom</th>\n",
       "      <th>parking spaces</th>\n",
       "      <th>floor</th>\n",
       "      <th>animal</th>\n",
       "      <th>furniture</th>\n",
       "      <th>hoa (R$)</th>\n",
       "      <th>rent amount (R$)</th>\n",
       "      <th>property tax (R$)</th>\n",
       "      <th>fire insurance (R$)</th>\n",
       "      <th>total (R$)</th>\n",
       "    </tr>\n",
       "  </thead>\n",
       "  <tbody>\n",
       "    <tr>\n",
       "      <th>4</th>\n",
       "      <td>São Paulo</td>\n",
       "      <td>25</td>\n",
       "      <td>1</td>\n",
       "      <td>1</td>\n",
       "      <td>0</td>\n",
       "      <td>1</td>\n",
       "      <td>not acept</td>\n",
       "      <td>not furnished</td>\n",
       "      <td>0</td>\n",
       "      <td>800</td>\n",
       "      <td>25</td>\n",
       "      <td>11</td>\n",
       "      <td>836</td>\n",
       "    </tr>\n",
       "    <tr>\n",
       "      <th>23</th>\n",
       "      <td>São Paulo</td>\n",
       "      <td>35</td>\n",
       "      <td>1</td>\n",
       "      <td>1</td>\n",
       "      <td>0</td>\n",
       "      <td>-</td>\n",
       "      <td>acept</td>\n",
       "      <td>not furnished</td>\n",
       "      <td>0</td>\n",
       "      <td>1100</td>\n",
       "      <td>3</td>\n",
       "      <td>14</td>\n",
       "      <td>1117</td>\n",
       "    </tr>\n",
       "    <tr>\n",
       "      <th>38</th>\n",
       "      <td>São Paulo</td>\n",
       "      <td>70</td>\n",
       "      <td>2</td>\n",
       "      <td>1</td>\n",
       "      <td>0</td>\n",
       "      <td>-</td>\n",
       "      <td>not acept</td>\n",
       "      <td>not furnished</td>\n",
       "      <td>0</td>\n",
       "      <td>1150</td>\n",
       "      <td>59</td>\n",
       "      <td>18</td>\n",
       "      <td>1227</td>\n",
       "    </tr>\n",
       "    <tr>\n",
       "      <th>53</th>\n",
       "      <td>São Paulo</td>\n",
       "      <td>60</td>\n",
       "      <td>2</td>\n",
       "      <td>1</td>\n",
       "      <td>0</td>\n",
       "      <td>2</td>\n",
       "      <td>acept</td>\n",
       "      <td>not furnished</td>\n",
       "      <td>200</td>\n",
       "      <td>1445</td>\n",
       "      <td>0</td>\n",
       "      <td>19</td>\n",
       "      <td>1664</td>\n",
       "    </tr>\n",
       "    <tr>\n",
       "      <th>71</th>\n",
       "      <td>São Paulo</td>\n",
       "      <td>45</td>\n",
       "      <td>1</td>\n",
       "      <td>1</td>\n",
       "      <td>0</td>\n",
       "      <td>-</td>\n",
       "      <td>acept</td>\n",
       "      <td>not furnished</td>\n",
       "      <td>0</td>\n",
       "      <td>1050</td>\n",
       "      <td>46</td>\n",
       "      <td>16</td>\n",
       "      <td>1112</td>\n",
       "    </tr>\n",
       "  </tbody>\n",
       "</table>\n",
       "</div>"
      ],
      "text/plain": [
       "         city  area  rooms  bathroom  parking spaces floor     animal  \\\n",
       "4   São Paulo    25      1         1               0     1  not acept   \n",
       "23  São Paulo    35      1         1               0     -      acept   \n",
       "38  São Paulo    70      2         1               0     -  not acept   \n",
       "53  São Paulo    60      2         1               0     2      acept   \n",
       "71  São Paulo    45      1         1               0     -      acept   \n",
       "\n",
       "        furniture  hoa (R$)  rent amount (R$)  property tax (R$)  \\\n",
       "4   not furnished         0               800                 25   \n",
       "23  not furnished         0              1100                  3   \n",
       "38  not furnished         0              1150                 59   \n",
       "53  not furnished       200              1445                  0   \n",
       "71  not furnished         0              1050                 46   \n",
       "\n",
       "    fire insurance (R$)  total (R$)  \n",
       "4                    11         836  \n",
       "23                   14        1117  \n",
       "38                   18        1227  \n",
       "53                   19        1664  \n",
       "71                   16        1112  "
      ]
     },
     "execution_count": 73,
     "metadata": {},
     "output_type": "execute_result"
    }
   ],
   "source": [
    "# Pegar apenas dados da cidade de São Paulo\n",
    "selecao = (precoAluguelImoveisSP_df['city'] == 'São Paulo') & (precoAluguelImoveisSP_df['total (R$)'] <= 2000)\n",
    "\n",
    "precoAluguelImoveisSP_df = precoAluguelImoveisSP_df[selecao]\n",
    "precoAluguelImoveisSP_df.head()"
   ]
  },
  {
   "cell_type": "markdown",
   "id": "2852399d",
   "metadata": {},
   "source": [
    "Quantidade de dados depois do filtro"
   ]
  },
  {
   "cell_type": "code",
   "execution_count": 61,
   "id": "800a6e46",
   "metadata": {},
   "outputs": [
    {
     "name": "stdout",
     "output_type": "stream",
     "text": [
      "<class 'pandas.core.frame.DataFrame'>\n",
      "Int64Index: 807 entries, 4 to 10691\n",
      "Data columns (total 13 columns):\n",
      " #   Column               Non-Null Count  Dtype \n",
      "---  ------               --------------  ----- \n",
      " 0   city                 807 non-null    object\n",
      " 1   area                 807 non-null    int64 \n",
      " 2   rooms                807 non-null    int64 \n",
      " 3   bathroom             807 non-null    int64 \n",
      " 4   parking spaces       807 non-null    int64 \n",
      " 5   floor                807 non-null    object\n",
      " 6   animal               807 non-null    object\n",
      " 7   furniture            807 non-null    object\n",
      " 8   hoa (R$)             807 non-null    int64 \n",
      " 9   rent amount (R$)     807 non-null    int64 \n",
      " 10  property tax (R$)    807 non-null    int64 \n",
      " 11  fire insurance (R$)  807 non-null    int64 \n",
      " 12  total (R$)           807 non-null    int64 \n",
      "dtypes: int64(9), object(4)\n",
      "memory usage: 88.3+ KB\n"
     ]
    }
   ],
   "source": [
    "precoAluguelImoveisSP_df.info()"
   ]
  },
  {
   "cell_type": "markdown",
   "id": "24781148",
   "metadata": {},
   "source": [
    "* Existem 807 observações que estão dentro do padrão especificado.\n",
    "* O floor (andar) está como object, mas é para ser um tipo numerico"
   ]
  },
  {
   "cell_type": "markdown",
   "id": "4bc7a572",
   "metadata": {},
   "source": [
    "### Corrigir coluna \"floor\""
   ]
  },
  {
   "cell_type": "code",
   "execution_count": 74,
   "id": "33fc7189",
   "metadata": {},
   "outputs": [],
   "source": [
    "# Transformar de object para numerico\n",
    "precoAluguelImoveisSP_df['floor'] = pd.to_numeric(precoAluguelImoveisSP_df['floor'], errors='coerce')"
   ]
  },
  {
   "cell_type": "code",
   "execution_count": 76,
   "id": "22a92306",
   "metadata": {},
   "outputs": [
    {
     "data": {
      "text/plain": [
       "True"
      ]
     },
     "execution_count": 76,
     "metadata": {},
     "output_type": "execute_result"
    }
   ],
   "source": [
    "# Verificar se há valores nulos na coluna Floor\n",
    "precoAluguelImoveisSP_df['floor'].isnull().any()"
   ]
  },
  {
   "cell_type": "code",
   "execution_count": 78,
   "id": "4d4d670d",
   "metadata": {},
   "outputs": [
    {
     "name": "stdout",
     "output_type": "stream",
     "text": [
      "<class 'pandas.core.series.Series'>\n",
      "Int64Index: 807 entries, 4 to 10691\n",
      "Series name: floor\n",
      "Non-Null Count  Dtype  \n",
      "--------------  -----  \n",
      "430 non-null    float64\n",
      "dtypes: float64(1)\n",
      "memory usage: 12.6 KB\n"
     ]
    }
   ],
   "source": [
    "precoAluguelImoveisSP_df['floor'].info()"
   ]
  },
  {
   "cell_type": "markdown",
   "id": "6fdee894",
   "metadata": {},
   "source": [
    "Os valores foram alterados para float, mas agora foi obtido valores nulos na coluna 'floor' (andar).\n",
    "\n",
    "A coluna 'floor', tem 807 linhas das quais 430 tem dados e 377 são nulas. As linhas nulas correspondem a 46.71% dos dados.\n",
    "\n",
    "Para resolver esse problema pode-se tirar essa coluna da análise, pode-se colocar valores padrões (exemplo, primeiro andar em todos) ou pode remover as linhas com dados faltantes.\n",
    "\n",
    "A decisão tomada foi preencher os dados faltantes com a mediana"
   ]
  },
  {
   "cell_type": "code",
   "execution_count": 79,
   "id": "b39c39ed",
   "metadata": {},
   "outputs": [],
   "source": [
    "mediana = precoAluguelImoveisSP_df['floor'].median()\n",
    "precoAluguelImoveisSP_df['floor'] = precoAluguelImoveisSP_df['floor'].fillna(mediana)"
   ]
  },
  {
   "cell_type": "code",
   "execution_count": 80,
   "id": "437fab5b",
   "metadata": {},
   "outputs": [
    {
     "data": {
      "text/html": [
       "<div>\n",
       "<style scoped>\n",
       "    .dataframe tbody tr th:only-of-type {\n",
       "        vertical-align: middle;\n",
       "    }\n",
       "\n",
       "    .dataframe tbody tr th {\n",
       "        vertical-align: top;\n",
       "    }\n",
       "\n",
       "    .dataframe thead th {\n",
       "        text-align: right;\n",
       "    }\n",
       "</style>\n",
       "<table border=\"1\" class=\"dataframe\">\n",
       "  <thead>\n",
       "    <tr style=\"text-align: right;\">\n",
       "      <th></th>\n",
       "      <th>city</th>\n",
       "      <th>area</th>\n",
       "      <th>rooms</th>\n",
       "      <th>bathroom</th>\n",
       "      <th>parking spaces</th>\n",
       "      <th>floor</th>\n",
       "      <th>animal</th>\n",
       "      <th>furniture</th>\n",
       "      <th>hoa (R$)</th>\n",
       "      <th>rent amount (R$)</th>\n",
       "      <th>property tax (R$)</th>\n",
       "      <th>fire insurance (R$)</th>\n",
       "      <th>total (R$)</th>\n",
       "    </tr>\n",
       "  </thead>\n",
       "  <tbody>\n",
       "    <tr>\n",
       "      <th>4</th>\n",
       "      <td>São Paulo</td>\n",
       "      <td>25</td>\n",
       "      <td>1</td>\n",
       "      <td>1</td>\n",
       "      <td>0</td>\n",
       "      <td>1.0</td>\n",
       "      <td>not acept</td>\n",
       "      <td>not furnished</td>\n",
       "      <td>0</td>\n",
       "      <td>800</td>\n",
       "      <td>25</td>\n",
       "      <td>11</td>\n",
       "      <td>836</td>\n",
       "    </tr>\n",
       "    <tr>\n",
       "      <th>23</th>\n",
       "      <td>São Paulo</td>\n",
       "      <td>35</td>\n",
       "      <td>1</td>\n",
       "      <td>1</td>\n",
       "      <td>0</td>\n",
       "      <td>3.0</td>\n",
       "      <td>acept</td>\n",
       "      <td>not furnished</td>\n",
       "      <td>0</td>\n",
       "      <td>1100</td>\n",
       "      <td>3</td>\n",
       "      <td>14</td>\n",
       "      <td>1117</td>\n",
       "    </tr>\n",
       "    <tr>\n",
       "      <th>38</th>\n",
       "      <td>São Paulo</td>\n",
       "      <td>70</td>\n",
       "      <td>2</td>\n",
       "      <td>1</td>\n",
       "      <td>0</td>\n",
       "      <td>3.0</td>\n",
       "      <td>not acept</td>\n",
       "      <td>not furnished</td>\n",
       "      <td>0</td>\n",
       "      <td>1150</td>\n",
       "      <td>59</td>\n",
       "      <td>18</td>\n",
       "      <td>1227</td>\n",
       "    </tr>\n",
       "    <tr>\n",
       "      <th>53</th>\n",
       "      <td>São Paulo</td>\n",
       "      <td>60</td>\n",
       "      <td>2</td>\n",
       "      <td>1</td>\n",
       "      <td>0</td>\n",
       "      <td>2.0</td>\n",
       "      <td>acept</td>\n",
       "      <td>not furnished</td>\n",
       "      <td>200</td>\n",
       "      <td>1445</td>\n",
       "      <td>0</td>\n",
       "      <td>19</td>\n",
       "      <td>1664</td>\n",
       "    </tr>\n",
       "    <tr>\n",
       "      <th>71</th>\n",
       "      <td>São Paulo</td>\n",
       "      <td>45</td>\n",
       "      <td>1</td>\n",
       "      <td>1</td>\n",
       "      <td>0</td>\n",
       "      <td>3.0</td>\n",
       "      <td>acept</td>\n",
       "      <td>not furnished</td>\n",
       "      <td>0</td>\n",
       "      <td>1050</td>\n",
       "      <td>46</td>\n",
       "      <td>16</td>\n",
       "      <td>1112</td>\n",
       "    </tr>\n",
       "  </tbody>\n",
       "</table>\n",
       "</div>"
      ],
      "text/plain": [
       "         city  area  rooms  bathroom  parking spaces  floor     animal  \\\n",
       "4   São Paulo    25      1         1               0    1.0  not acept   \n",
       "23  São Paulo    35      1         1               0    3.0      acept   \n",
       "38  São Paulo    70      2         1               0    3.0  not acept   \n",
       "53  São Paulo    60      2         1               0    2.0      acept   \n",
       "71  São Paulo    45      1         1               0    3.0      acept   \n",
       "\n",
       "        furniture  hoa (R$)  rent amount (R$)  property tax (R$)  \\\n",
       "4   not furnished         0               800                 25   \n",
       "23  not furnished         0              1100                  3   \n",
       "38  not furnished         0              1150                 59   \n",
       "53  not furnished       200              1445                  0   \n",
       "71  not furnished         0              1050                 46   \n",
       "\n",
       "    fire insurance (R$)  total (R$)  \n",
       "4                    11         836  \n",
       "23                   14        1117  \n",
       "38                   18        1227  \n",
       "53                   19        1664  \n",
       "71                   16        1112  "
      ]
     },
     "execution_count": 80,
     "metadata": {},
     "output_type": "execute_result"
    }
   ],
   "source": [
    "precoAluguelImoveisSP_df.head()"
   ]
  },
  {
   "cell_type": "code",
   "execution_count": 85,
   "id": "81324d15",
   "metadata": {},
   "outputs": [
    {
     "data": {
      "text/plain": [
       "False"
      ]
     },
     "execution_count": 85,
     "metadata": {},
     "output_type": "execute_result"
    }
   ],
   "source": [
    "# Verificar se há valores nulos na coluna Floor\n",
    "precoAluguelImoveisSP_df['floor'].isnull().any()"
   ]
  },
  {
   "cell_type": "markdown",
   "id": "92a7615c",
   "metadata": {},
   "source": [
    "A coluna 'floor' não tem mais dados nulos"
   ]
  },
  {
   "cell_type": "markdown",
   "id": "feb5dbdf",
   "metadata": {},
   "source": [
    "# Entender os dados e corrigir se preciso"
   ]
  },
  {
   "cell_type": "code",
   "execution_count": 87,
   "id": "c99cde3d",
   "metadata": {
    "scrolled": false
   },
   "outputs": [
    {
     "data": {
      "text/html": [
       "<div>\n",
       "<style scoped>\n",
       "    .dataframe tbody tr th:only-of-type {\n",
       "        vertical-align: middle;\n",
       "    }\n",
       "\n",
       "    .dataframe tbody tr th {\n",
       "        vertical-align: top;\n",
       "    }\n",
       "\n",
       "    .dataframe thead th {\n",
       "        text-align: right;\n",
       "    }\n",
       "</style>\n",
       "<table border=\"1\" class=\"dataframe\">\n",
       "  <thead>\n",
       "    <tr style=\"text-align: right;\">\n",
       "      <th></th>\n",
       "      <th>count</th>\n",
       "      <th>mean</th>\n",
       "      <th>std</th>\n",
       "      <th>min</th>\n",
       "      <th>25%</th>\n",
       "      <th>50%</th>\n",
       "      <th>75%</th>\n",
       "      <th>max</th>\n",
       "    </tr>\n",
       "  </thead>\n",
       "  <tbody>\n",
       "    <tr>\n",
       "      <th>area</th>\n",
       "      <td>807.0</td>\n",
       "      <td>53.486989</td>\n",
       "      <td>27.183405</td>\n",
       "      <td>12.0</td>\n",
       "      <td>38.0</td>\n",
       "      <td>50.0</td>\n",
       "      <td>62.5</td>\n",
       "      <td>270.0</td>\n",
       "    </tr>\n",
       "    <tr>\n",
       "      <th>rooms</th>\n",
       "      <td>807.0</td>\n",
       "      <td>1.506815</td>\n",
       "      <td>0.593296</td>\n",
       "      <td>1.0</td>\n",
       "      <td>1.0</td>\n",
       "      <td>1.0</td>\n",
       "      <td>2.0</td>\n",
       "      <td>4.0</td>\n",
       "    </tr>\n",
       "    <tr>\n",
       "      <th>bathroom</th>\n",
       "      <td>807.0</td>\n",
       "      <td>1.112763</td>\n",
       "      <td>0.346443</td>\n",
       "      <td>1.0</td>\n",
       "      <td>1.0</td>\n",
       "      <td>1.0</td>\n",
       "      <td>1.0</td>\n",
       "      <td>3.0</td>\n",
       "    </tr>\n",
       "    <tr>\n",
       "      <th>parking spaces</th>\n",
       "      <td>807.0</td>\n",
       "      <td>0.382900</td>\n",
       "      <td>0.583780</td>\n",
       "      <td>0.0</td>\n",
       "      <td>0.0</td>\n",
       "      <td>0.0</td>\n",
       "      <td>1.0</td>\n",
       "      <td>4.0</td>\n",
       "    </tr>\n",
       "    <tr>\n",
       "      <th>hoa (R$)</th>\n",
       "      <td>807.0</td>\n",
       "      <td>162.351921</td>\n",
       "      <td>209.665781</td>\n",
       "      <td>0.0</td>\n",
       "      <td>0.0</td>\n",
       "      <td>0.0</td>\n",
       "      <td>325.0</td>\n",
       "      <td>990.0</td>\n",
       "    </tr>\n",
       "    <tr>\n",
       "      <th>property tax (R$)</th>\n",
       "      <td>807.0</td>\n",
       "      <td>37.835192</td>\n",
       "      <td>49.933493</td>\n",
       "      <td>0.0</td>\n",
       "      <td>0.0</td>\n",
       "      <td>25.0</td>\n",
       "      <td>59.0</td>\n",
       "      <td>325.0</td>\n",
       "    </tr>\n",
       "    <tr>\n",
       "      <th>fire insurance (R$)</th>\n",
       "      <td>807.0</td>\n",
       "      <td>17.346964</td>\n",
       "      <td>4.468924</td>\n",
       "      <td>4.0</td>\n",
       "      <td>14.0</td>\n",
       "      <td>17.0</td>\n",
       "      <td>20.0</td>\n",
       "      <td>30.0</td>\n",
       "    </tr>\n",
       "    <tr>\n",
       "      <th>total (R$)</th>\n",
       "      <td>807.0</td>\n",
       "      <td>1463.641884</td>\n",
       "      <td>359.505415</td>\n",
       "      <td>508.0</td>\n",
       "      <td>1199.5</td>\n",
       "      <td>1518.0</td>\n",
       "      <td>1773.0</td>\n",
       "      <td>2000.0</td>\n",
       "    </tr>\n",
       "  </tbody>\n",
       "</table>\n",
       "</div>"
      ],
      "text/plain": [
       "                     count         mean         std    min     25%     50%  \\\n",
       "area                 807.0    53.486989   27.183405   12.0    38.0    50.0   \n",
       "rooms                807.0     1.506815    0.593296    1.0     1.0     1.0   \n",
       "bathroom             807.0     1.112763    0.346443    1.0     1.0     1.0   \n",
       "parking spaces       807.0     0.382900    0.583780    0.0     0.0     0.0   \n",
       "hoa (R$)             807.0   162.351921  209.665781    0.0     0.0     0.0   \n",
       "property tax (R$)    807.0    37.835192   49.933493    0.0     0.0    25.0   \n",
       "fire insurance (R$)  807.0    17.346964    4.468924    4.0    14.0    17.0   \n",
       "total (R$)           807.0  1463.641884  359.505415  508.0  1199.5  1518.0   \n",
       "\n",
       "                        75%     max  \n",
       "area                   62.5   270.0  \n",
       "rooms                   2.0     4.0  \n",
       "bathroom                1.0     3.0  \n",
       "parking spaces          1.0     4.0  \n",
       "hoa (R$)              325.0   990.0  \n",
       "property tax (R$)      59.0   325.0  \n",
       "fire insurance (R$)    20.0    30.0  \n",
       "total (R$)           1773.0  2000.0  "
      ]
     },
     "execution_count": 87,
     "metadata": {},
     "output_type": "execute_result"
    }
   ],
   "source": [
    "precoAluguelImoveisSP_df[['area','rooms','bathroom', 'parking spaces', 'hoa (R$)', 'property tax (R$)', 'fire insurance (R$)', 'total (R$)']].describe().T"
   ]
  },
  {
   "cell_type": "code",
   "execution_count": 89,
   "id": "33c8e1f3",
   "metadata": {},
   "outputs": [
    {
     "data": {
      "image/png": "[encoded data removed]",
      "text/plain": [
       "<Figure size 1500x500 with 3 Axes>"
      ]
     },
     "metadata": {},
     "output_type": "display_data"
    }
   ],
   "source": [
    "# Configura o estilo do seaborn\n",
    "sns.set_style(\"whitegrid\")\n",
    "\n",
    "# Cria uma figura e eixos para os subplots\n",
    "fig, axs = plt.subplots(1, 3, figsize=(15, 5))\n",
    "\n",
    "# Plota o primeiro gráfico\n",
    "sns.boxplot(x=precoAluguelImoveisSP_df[\"total (R$)\"], ax=axs[0])\n",
    "axs[0].set_title('Distribuição de Preço total do aluguel')\n",
    "axs[0].set_xlabel('Preço')\n",
    "\n",
    "# Plota o segundo gráfico\n",
    "sns.boxplot(x=precoAluguelImoveisSP_df[\"area\"], ax=axs[1])\n",
    "axs[1].set_title('Distribuição de Área (m²)')\n",
    "axs[1].set_xlabel('Área')\n",
    "\n",
    "# Plota o terceiro gráfico\n",
    "sns.boxplot(x=precoAluguelImoveisSP_df[\"hoa (R$)\"], ax=axs[2])\n",
    "axs[2].set_title('Distribuição de Preço do condomínio')\n",
    "axs[2].set_xlabel('Preço')\n",
    "\n",
    "# Ajusta o layout para evitar sobreposição\n",
    "plt.tight_layout()\n",
    "\n",
    "# Mostra o gráfico\n",
    "plt.show()"
   ]
  },
  {
   "cell_type": "markdown",
   "id": "43758871",
   "metadata": {},
   "source": [
    "#### Grafico 1\n",
    "* A distribuição dos dados do aluguel está dentro do esperado, com seu maior em 2000R$\n",
    "\n",
    "#### Grafico 2\n",
    "* A distribuição da área tem 75% dos dados abaixo de 62.5m², mas existem alguns imoveis acima de 100m² chegando até imoveis com mais de 250m²\n",
    "\n",
    "#### Grafico 3\n",
    "* 50% dos imoveis não pagam condominio (provavel que não estejam em condominios), entre 50% e 75% é possivel observar que o valor maximo de condominio é de 325R$\n",
    "\n",
    "* Existem alguns valores de outliers onde o condominio chega a ser 49,5% (990,00 Reais) de um aluguel de 2000R$"
   ]
  },
  {
   "cell_type": "markdown",
   "id": "481bf3bd",
   "metadata": {},
   "source": [
    "# Responder as Perguntas"
   ]
  },
  {
   "cell_type": "markdown",
   "id": "515a0f87",
   "metadata": {},
   "source": [
    "## Perguntas\n",
    "- Permitir Animais de estimação aumenta o preço do aluguel?\n",
    "- Permitir Animais de estimação tem relação com o tamanho do imóvel?"
   ]
  },
  {
   "cell_type": "markdown",
   "id": "04580e12",
   "metadata": {},
   "source": [
    "## Permitir Animais de estimação aumenta o preço do aluguel?"
   ]
  },
  {
   "cell_type": "code",
   "execution_count": 90,
   "id": "b2426b6a",
   "metadata": {},
   "outputs": [
    {
     "data": {
      "text/html": [
       "<div>\n",
       "<style scoped>\n",
       "    .dataframe tbody tr th:only-of-type {\n",
       "        vertical-align: middle;\n",
       "    }\n",
       "\n",
       "    .dataframe tbody tr th {\n",
       "        vertical-align: top;\n",
       "    }\n",
       "\n",
       "    .dataframe thead th {\n",
       "        text-align: right;\n",
       "    }\n",
       "</style>\n",
       "<table border=\"1\" class=\"dataframe\">\n",
       "  <thead>\n",
       "    <tr style=\"text-align: right;\">\n",
       "      <th></th>\n",
       "      <th>total (R$)</th>\n",
       "    </tr>\n",
       "    <tr>\n",
       "      <th>animal</th>\n",
       "      <th></th>\n",
       "    </tr>\n",
       "  </thead>\n",
       "  <tbody>\n",
       "    <tr>\n",
       "      <th>acept</th>\n",
       "      <td>1569.199143</td>\n",
       "    </tr>\n",
       "    <tr>\n",
       "      <th>not acept</th>\n",
       "      <td>1318.655882</td>\n",
       "    </tr>\n",
       "  </tbody>\n",
       "</table>\n",
       "</div>"
      ],
      "text/plain": [
       "            total (R$)\n",
       "animal                \n",
       "acept      1569.199143\n",
       "not acept  1318.655882"
      ]
     },
     "execution_count": 90,
     "metadata": {},
     "output_type": "execute_result"
    }
   ],
   "source": [
    "precoAluguelImoveisSP_df[[\"total (R$)\", 'animal']].groupby('animal').mean()"
   ]
  },
  {
   "cell_type": "markdown",
   "id": "46c43dbd",
   "metadata": {},
   "source": [
    "Existe uma diferença na média, mas não é suficiente para responder a pergunta"
   ]
  },
  {
   "cell_type": "code",
   "execution_count": 91,
   "id": "a249d1d4",
   "metadata": {},
   "outputs": [
    {
     "data": {
      "image/png": "[encoded data removed]",
      "text/plain": [
       "<Figure size 1400x600 with 2 Axes>"
      ]
     },
     "metadata": {},
     "output_type": "display_data"
    }
   ],
   "source": [
    "# Criando a figura e os subplots\n",
    "fig, axs = plt.subplots(1, 2, figsize=(14, 6))\n",
    "\n",
    "# Plotando o gráfico de violino no primeiro subplot\n",
    "sns.violinplot(data=precoAluguelImoveisSP_df, x='animal', y='total (R$)', ax=axs[0])\n",
    "axs[0].set_title('Distribuição dos preços de imóveis que aceitam ou não animal')\n",
    "axs[0].set_xlabel('Aceita?')\n",
    "axs[0].set_ylabel('Preço do Aluguel (R$)')\n",
    "\n",
    "# Plotando o gráfico de caixa no segundo subplot\n",
    "sns.boxplot(data=precoAluguelImoveisSP_df, x='animal', y='total (R$)', ax=axs[1])\n",
    "axs[1].set_title('Distribuição dos preços de imóveis que aceitam ou não animal')\n",
    "axs[1].set_xlabel('Aceita?')\n",
    "axs[1].set_ylabel('Preço do Aluguel (R$)')\n",
    "\n",
    "# Ajustando o layout\n",
    "plt.tight_layout()\n",
    "\n",
    "# Exibindo os gráficos\n",
    "plt.show()"
   ]
  },
  {
   "cell_type": "markdown",
   "id": "10e27b45",
   "metadata": {},
   "source": [
    "É possivel perceber que em imoveis de menor preço existem mais imóveis que não permitem animais do que imóveis que permitem, mas quando esse valor se aproxima de 2000R$, os papeis se invertem, então observa-se que quando o aluguel vai ficando maior a tendência de aceitar animais é maior também."
   ]
  },
  {
   "cell_type": "markdown",
   "id": "4886b79c",
   "metadata": {},
   "source": [
    "#### Imóveis mais caros tendem a ter um maior aceite de animais"
   ]
  },
  {
   "cell_type": "markdown",
   "id": "3d9147dd",
   "metadata": {},
   "source": []
  },
  {
   "cell_type": "markdown",
   "id": "2122a83f",
   "metadata": {},
   "source": [
    "## Permitir Animais de estimação tem relação com o tamanho do imóvel?"
   ]
  },
  {
   "cell_type": "code",
   "execution_count": 93,
   "id": "75e09807",
   "metadata": {},
   "outputs": [
    {
     "data": {
      "image/png": "[encoded data removed]",
      "text/plain": [
       "<Figure size 1400x600 with 2 Axes>"
      ]
     },
     "metadata": {},
     "output_type": "display_data"
    }
   ],
   "source": [
    "\n",
    "# Criando a figura e os subplots\n",
    "fig, axs = plt.subplots(1, 2, figsize=(14, 6))\n",
    "\n",
    "# Plotando o gráfico de violino no primeiro subplot\n",
    "sns.violinplot(data=precoAluguelImoveisSP_df, x='animal', y='area', ax=axs[0])\n",
    "axs[0].set_title('Distribuição dos preços da area de imóveis que aceitam ou não animal')\n",
    "axs[0].set_xlabel('Aceita?')\n",
    "axs[0].set_ylabel('Area em m²')\n",
    "\n",
    "# Plotando o gráfico de caixa no segundo subplot\n",
    "sns.boxplot(data=precoAluguelImoveisSP_df, x='animal', y='area', ax=axs[1])\n",
    "axs[1].set_title('Distribuição dos preços da area de imóveis que aceitam ou não animal')\n",
    "axs[1].set_xlabel('Aceita?')\n",
    "axs[1].set_ylabel('Area em m²')\n",
    "\n",
    "# Ajustando o layout\n",
    "plt.tight_layout()\n",
    "\n",
    "# Exibindo os gráficos\n",
    "plt.show()"
   ]
  },
  {
   "cell_type": "markdown",
   "id": "f06625c2",
   "metadata": {},
   "source": [
    "É possivel ver uma tendência sim, que ao aumentar a área do imóvel, a permissão para animais "
   ]
  }
 ],
 "metadata": {
  "kernelspec": {
   "display_name": "Python 3 (ipykernel)",
   "language": "python",
   "name": "python3"
  },
  "language_info": {
   "codemirror_mode": {
    "name": "ipython",
    "version": 3
   },
   "file_extension": ".py",
   "mimetype": "text/x-python",
   "name": "python",
   "nbconvert_exporter": "python",
   "pygments_lexer": "ipython3",
   "version": "3.11.4"
  }
 },
 "nbformat": 4,
 "nbformat_minor": 5
}

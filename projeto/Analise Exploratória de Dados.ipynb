{
 "cells": [
  {
   "cell_type": "markdown",
   "id": "01723b28",
   "metadata": {},
   "source": [
    "# Análise Exploratória de Dados"
   ]
  },
  {
   "cell_type": "markdown",
   "id": "7fd6bd6e",
   "metadata": {},
   "source": [
    "## Dataset\n",
    "- Fonte : https://www.kaggle.com/datasets/rubenssjr/brasilian-houses-to-rent\n"
   ]
  },
  {
   "cell_type": "markdown",
   "id": "ae8c3048",
   "metadata": {},
   "source": [
    "## Informações sobre os dados\n",
    "\n",
    "- Colunas\n",
    "    - city: Nome da cidade onde os dados foram obtidos\n",
    "    - area: Área em m² do imóvel \n",
    "    - rooms: Número de Quartos\n",
    "    - bathroom:Número de Banheiros\n",
    "    - parking spaces: Quantidade de garagens\n",
    "    - floor: Andar do imovel\n",
    "    - animal: Aceita Animais domesticos?\n",
    "    - furniture: Imóvel Imobiliado?\n",
    "    - hoa (R\\$): Valor do condomínio\n",
    "    - rent amount (R\\$): Valor do Aluguel\n",
    "    - property tax (R\\$): Valor do IPTU\n",
    "    - fire insurance (R\\$): Valor do Seguro de Incêndio\n",
    "    - total (R\\$): Valor total de aluguel do imóvel"
   ]
  },
  {
   "cell_type": "markdown",
   "id": "b24f5562",
   "metadata": {},
   "source": [
    "## Objetivos\n",
    "- Os dados apresentam dados de outras cidades além de São Paulo (Rio de Janeiro, Campinas, Porto Alegre), o objetivo é fazer um recorte especifico da cidade de são Paulo e Análisar os dados"
   ]
  },
  {
   "cell_type": "markdown",
   "id": "f555b2a7",
   "metadata": {},
   "source": [
    "## Perguntas\n",
    "- Permitir Animais de estimação aumenta o preço do aluguel? \n",
    "- Qual a proporção de imóveis que aceitam animais de estimação?\n",
    "- Existe uma correlação entre a quantidade de quartos e o valor do condomínio?\n",
    "- Como a quantidade de garagens se relaciona com o valor do seguro contra incêndio?\n",
    "- Qual é a média de despesas com IPTU em São Paulo?\n",
    "- Qual a diferença média de preço entre imóveis mobiliados e não mobiliados?"
   ]
  },
  {
   "cell_type": "code",
   "execution_count": 150,
   "id": "ae6ffba1",
   "metadata": {},
   "outputs": [],
   "source": [
    "# imports\n",
    "import pandas as pd\n",
    "import seaborn as sns"
   ]
  },
  {
   "cell_type": "code",
   "execution_count": 151,
   "id": "2e31dd34",
   "metadata": {},
   "outputs": [],
   "source": [
    "# carregar base de dados\n",
    "precoAluguelImoveisSP_df = pd.read_csv('./dados_preço_aluguel_BR.csv', sep=',')"
   ]
  },
  {
   "cell_type": "code",
   "execution_count": 152,
   "id": "e45bb4e7",
   "metadata": {
    "scrolled": true
   },
   "outputs": [
    {
     "data": {
      "text/html": [
       "<div>\n",
       "<style scoped>\n",
       "    .dataframe tbody tr th:only-of-type {\n",
       "        vertical-align: middle;\n",
       "    }\n",
       "\n",
       "    .dataframe tbody tr th {\n",
       "        vertical-align: top;\n",
       "    }\n",
       "\n",
       "    .dataframe thead th {\n",
       "        text-align: right;\n",
       "    }\n",
       "</style>\n",
       "<table border=\"1\" class=\"dataframe\">\n",
       "  <thead>\n",
       "    <tr style=\"text-align: right;\">\n",
       "      <th></th>\n",
       "      <th>city</th>\n",
       "      <th>area</th>\n",
       "      <th>rooms</th>\n",
       "      <th>bathroom</th>\n",
       "      <th>parking spaces</th>\n",
       "      <th>floor</th>\n",
       "      <th>animal</th>\n",
       "      <th>furniture</th>\n",
       "      <th>hoa (R$)</th>\n",
       "      <th>rent amount (R$)</th>\n",
       "      <th>property tax (R$)</th>\n",
       "      <th>fire insurance (R$)</th>\n",
       "      <th>total (R$)</th>\n",
       "    </tr>\n",
       "  </thead>\n",
       "  <tbody>\n",
       "    <tr>\n",
       "      <th>0</th>\n",
       "      <td>São Paulo</td>\n",
       "      <td>70</td>\n",
       "      <td>2</td>\n",
       "      <td>1</td>\n",
       "      <td>1</td>\n",
       "      <td>7</td>\n",
       "      <td>acept</td>\n",
       "      <td>furnished</td>\n",
       "      <td>2065</td>\n",
       "      <td>3300</td>\n",
       "      <td>211</td>\n",
       "      <td>42</td>\n",
       "      <td>5618</td>\n",
       "    </tr>\n",
       "    <tr>\n",
       "      <th>1</th>\n",
       "      <td>São Paulo</td>\n",
       "      <td>320</td>\n",
       "      <td>4</td>\n",
       "      <td>4</td>\n",
       "      <td>0</td>\n",
       "      <td>20</td>\n",
       "      <td>acept</td>\n",
       "      <td>not furnished</td>\n",
       "      <td>1200</td>\n",
       "      <td>4960</td>\n",
       "      <td>1750</td>\n",
       "      <td>63</td>\n",
       "      <td>7973</td>\n",
       "    </tr>\n",
       "    <tr>\n",
       "      <th>2</th>\n",
       "      <td>Porto Alegre</td>\n",
       "      <td>80</td>\n",
       "      <td>1</td>\n",
       "      <td>1</td>\n",
       "      <td>1</td>\n",
       "      <td>6</td>\n",
       "      <td>acept</td>\n",
       "      <td>not furnished</td>\n",
       "      <td>1000</td>\n",
       "      <td>2800</td>\n",
       "      <td>0</td>\n",
       "      <td>41</td>\n",
       "      <td>3841</td>\n",
       "    </tr>\n",
       "    <tr>\n",
       "      <th>3</th>\n",
       "      <td>Porto Alegre</td>\n",
       "      <td>51</td>\n",
       "      <td>2</td>\n",
       "      <td>1</td>\n",
       "      <td>0</td>\n",
       "      <td>2</td>\n",
       "      <td>acept</td>\n",
       "      <td>not furnished</td>\n",
       "      <td>270</td>\n",
       "      <td>1112</td>\n",
       "      <td>22</td>\n",
       "      <td>17</td>\n",
       "      <td>1421</td>\n",
       "    </tr>\n",
       "    <tr>\n",
       "      <th>4</th>\n",
       "      <td>São Paulo</td>\n",
       "      <td>25</td>\n",
       "      <td>1</td>\n",
       "      <td>1</td>\n",
       "      <td>0</td>\n",
       "      <td>1</td>\n",
       "      <td>not acept</td>\n",
       "      <td>not furnished</td>\n",
       "      <td>0</td>\n",
       "      <td>800</td>\n",
       "      <td>25</td>\n",
       "      <td>11</td>\n",
       "      <td>836</td>\n",
       "    </tr>\n",
       "  </tbody>\n",
       "</table>\n",
       "</div>"
      ],
      "text/plain": [
       "           city  area  rooms  bathroom  parking spaces floor     animal  \\\n",
       "0     São Paulo    70      2         1               1     7      acept   \n",
       "1     São Paulo   320      4         4               0    20      acept   \n",
       "2  Porto Alegre    80      1         1               1     6      acept   \n",
       "3  Porto Alegre    51      2         1               0     2      acept   \n",
       "4     São Paulo    25      1         1               0     1  not acept   \n",
       "\n",
       "       furniture  hoa (R$)  rent amount (R$)  property tax (R$)  \\\n",
       "0      furnished      2065              3300                211   \n",
       "1  not furnished      1200              4960               1750   \n",
       "2  not furnished      1000              2800                  0   \n",
       "3  not furnished       270              1112                 22   \n",
       "4  not furnished         0               800                 25   \n",
       "\n",
       "   fire insurance (R$)  total (R$)  \n",
       "0                   42        5618  \n",
       "1                   63        7973  \n",
       "2                   41        3841  \n",
       "3                   17        1421  \n",
       "4                   11         836  "
      ]
     },
     "execution_count": 152,
     "metadata": {},
     "output_type": "execute_result"
    }
   ],
   "source": [
    "precoAluguelImoveisSP_df.head()"
   ]
  },
  {
   "cell_type": "markdown",
   "id": "a32a87fe",
   "metadata": {},
   "source": [
    "## Verificar Dados"
   ]
  },
  {
   "cell_type": "code",
   "execution_count": 153,
   "id": "bf698148",
   "metadata": {},
   "outputs": [
    {
     "name": "stdout",
     "output_type": "stream",
     "text": [
      "<class 'pandas.core.frame.DataFrame'>\n",
      "RangeIndex: 10692 entries, 0 to 10691\n",
      "Data columns (total 13 columns):\n",
      " #   Column               Non-Null Count  Dtype \n",
      "---  ------               --------------  ----- \n",
      " 0   city                 10692 non-null  object\n",
      " 1   area                 10692 non-null  int64 \n",
      " 2   rooms                10692 non-null  int64 \n",
      " 3   bathroom             10692 non-null  int64 \n",
      " 4   parking spaces       10692 non-null  int64 \n",
      " 5   floor                10692 non-null  object\n",
      " 6   animal               10692 non-null  object\n",
      " 7   furniture            10692 non-null  object\n",
      " 8   hoa (R$)             10692 non-null  int64 \n",
      " 9   rent amount (R$)     10692 non-null  int64 \n",
      " 10  property tax (R$)    10692 non-null  int64 \n",
      " 11  fire insurance (R$)  10692 non-null  int64 \n",
      " 12  total (R$)           10692 non-null  int64 \n",
      "dtypes: int64(9), object(4)\n",
      "memory usage: 1.1+ MB\n"
     ]
    }
   ],
   "source": [
    "precoAluguelImoveisSP_df.info()"
   ]
  },
  {
   "cell_type": "markdown",
   "id": "6905d1ad",
   "metadata": {},
   "source": [
    "* O floor está como object, mas é para ser um tipo int64, pois são valores numericos"
   ]
  },
  {
   "cell_type": "markdown",
   "id": "4bc7a572",
   "metadata": {},
   "source": [
    "### Corrigir coluna \"floor\""
   ]
  },
  {
   "cell_type": "code",
   "execution_count": 154,
   "id": "33fc7189",
   "metadata": {},
   "outputs": [],
   "source": [
    "# Transformar de object para numerico\n",
    "precoAluguelImoveisSP_df['floor'] = pd.to_numeric(precoAluguelImoveisSP_df['floor'], errors='coerce')"
   ]
  },
  {
   "cell_type": "code",
   "execution_count": 155,
   "id": "4d4d670d",
   "metadata": {},
   "outputs": [
    {
     "name": "stdout",
     "output_type": "stream",
     "text": [
      "<class 'pandas.core.frame.DataFrame'>\n",
      "RangeIndex: 10692 entries, 0 to 10691\n",
      "Data columns (total 13 columns):\n",
      " #   Column               Non-Null Count  Dtype  \n",
      "---  ------               --------------  -----  \n",
      " 0   city                 10692 non-null  object \n",
      " 1   area                 10692 non-null  int64  \n",
      " 2   rooms                10692 non-null  int64  \n",
      " 3   bathroom             10692 non-null  int64  \n",
      " 4   parking spaces       10692 non-null  int64  \n",
      " 5   floor                8231 non-null   float64\n",
      " 6   animal               10692 non-null  object \n",
      " 7   furniture            10692 non-null  object \n",
      " 8   hoa (R$)             10692 non-null  int64  \n",
      " 9   rent amount (R$)     10692 non-null  int64  \n",
      " 10  property tax (R$)    10692 non-null  int64  \n",
      " 11  fire insurance (R$)  10692 non-null  int64  \n",
      " 12  total (R$)           10692 non-null  int64  \n",
      "dtypes: float64(1), int64(9), object(3)\n",
      "memory usage: 1.1+ MB\n"
     ]
    }
   ],
   "source": [
    "precoAluguelImoveisSP_df.info()"
   ]
  },
  {
   "cell_type": "code",
   "execution_count": 156,
   "id": "216be7ad",
   "metadata": {},
   "outputs": [
    {
     "data": {
      "text/plain": [
       "city                   False\n",
       "area                   False\n",
       "rooms                  False\n",
       "bathroom               False\n",
       "parking spaces         False\n",
       "floor                   True\n",
       "animal                 False\n",
       "furniture              False\n",
       "hoa (R$)               False\n",
       "rent amount (R$)       False\n",
       "property tax (R$)      False\n",
       "fire insurance (R$)    False\n",
       "total (R$)             False\n",
       "dtype: bool"
      ]
     },
     "execution_count": 156,
     "metadata": {},
     "output_type": "execute_result"
    }
   ],
   "source": [
    "# Verificar valores nulos\n",
    "precoAluguelImoveisSP_df.isnull().any()"
   ]
  },
  {
   "cell_type": "markdown",
   "id": "8f3fa7b0",
   "metadata": {},
   "source": [
    "Os valores foram alterados para float, mas agora foi obtido valores nulos na coluna floor\n",
    "\n",
    "Para resolver esse problema pode-se tirar essa coluna da análise, pode-se colocar valores padrões (exemplo, primeiro andar em todos) ou pode remover as linhas com dados faltantes.\n",
    "\n",
    "Para prosseguir, irei filtrar os dados de interesse primeiro, ou seja, apenas imóveis da cidade de São Paulo, após isso tomarei a decisão do que fazer com os dados faltantes, pois se for poucos dados que estejam faltando para o caso de São Paulo, é possivel simplesmente remover as linhas com dados faltantes"
   ]
  },
  {
   "cell_type": "code",
   "execution_count": 157,
   "id": "9a044a17",
   "metadata": {},
   "outputs": [],
   "source": [
    "# Pegar apenas dados da cidade de São Paulo\n",
    "selecao = precoAluguelImoveisSP_df['city'] == 'São Paulo'"
   ]
  },
  {
   "cell_type": "code",
   "execution_count": 158,
   "id": "6df417ac",
   "metadata": {},
   "outputs": [
    {
     "data": {
      "text/html": [
       "<div>\n",
       "<style scoped>\n",
       "    .dataframe tbody tr th:only-of-type {\n",
       "        vertical-align: middle;\n",
       "    }\n",
       "\n",
       "    .dataframe tbody tr th {\n",
       "        vertical-align: top;\n",
       "    }\n",
       "\n",
       "    .dataframe thead th {\n",
       "        text-align: right;\n",
       "    }\n",
       "</style>\n",
       "<table border=\"1\" class=\"dataframe\">\n",
       "  <thead>\n",
       "    <tr style=\"text-align: right;\">\n",
       "      <th></th>\n",
       "      <th>city</th>\n",
       "      <th>area</th>\n",
       "      <th>rooms</th>\n",
       "      <th>bathroom</th>\n",
       "      <th>parking spaces</th>\n",
       "      <th>floor</th>\n",
       "      <th>animal</th>\n",
       "      <th>furniture</th>\n",
       "      <th>hoa (R$)</th>\n",
       "      <th>rent amount (R$)</th>\n",
       "      <th>property tax (R$)</th>\n",
       "      <th>fire insurance (R$)</th>\n",
       "      <th>total (R$)</th>\n",
       "    </tr>\n",
       "  </thead>\n",
       "  <tbody>\n",
       "    <tr>\n",
       "      <th>0</th>\n",
       "      <td>São Paulo</td>\n",
       "      <td>70</td>\n",
       "      <td>2</td>\n",
       "      <td>1</td>\n",
       "      <td>1</td>\n",
       "      <td>7.0</td>\n",
       "      <td>acept</td>\n",
       "      <td>furnished</td>\n",
       "      <td>2065</td>\n",
       "      <td>3300</td>\n",
       "      <td>211</td>\n",
       "      <td>42</td>\n",
       "      <td>5618</td>\n",
       "    </tr>\n",
       "    <tr>\n",
       "      <th>1</th>\n",
       "      <td>São Paulo</td>\n",
       "      <td>320</td>\n",
       "      <td>4</td>\n",
       "      <td>4</td>\n",
       "      <td>0</td>\n",
       "      <td>20.0</td>\n",
       "      <td>acept</td>\n",
       "      <td>not furnished</td>\n",
       "      <td>1200</td>\n",
       "      <td>4960</td>\n",
       "      <td>1750</td>\n",
       "      <td>63</td>\n",
       "      <td>7973</td>\n",
       "    </tr>\n",
       "    <tr>\n",
       "      <th>4</th>\n",
       "      <td>São Paulo</td>\n",
       "      <td>25</td>\n",
       "      <td>1</td>\n",
       "      <td>1</td>\n",
       "      <td>0</td>\n",
       "      <td>1.0</td>\n",
       "      <td>not acept</td>\n",
       "      <td>not furnished</td>\n",
       "      <td>0</td>\n",
       "      <td>800</td>\n",
       "      <td>25</td>\n",
       "      <td>11</td>\n",
       "      <td>836</td>\n",
       "    </tr>\n",
       "    <tr>\n",
       "      <th>5</th>\n",
       "      <td>São Paulo</td>\n",
       "      <td>376</td>\n",
       "      <td>3</td>\n",
       "      <td>3</td>\n",
       "      <td>7</td>\n",
       "      <td>NaN</td>\n",
       "      <td>acept</td>\n",
       "      <td>not furnished</td>\n",
       "      <td>0</td>\n",
       "      <td>8000</td>\n",
       "      <td>834</td>\n",
       "      <td>121</td>\n",
       "      <td>8955</td>\n",
       "    </tr>\n",
       "    <tr>\n",
       "      <th>7</th>\n",
       "      <td>São Paulo</td>\n",
       "      <td>213</td>\n",
       "      <td>4</td>\n",
       "      <td>4</td>\n",
       "      <td>4</td>\n",
       "      <td>4.0</td>\n",
       "      <td>acept</td>\n",
       "      <td>not furnished</td>\n",
       "      <td>2254</td>\n",
       "      <td>3223</td>\n",
       "      <td>1735</td>\n",
       "      <td>41</td>\n",
       "      <td>7253</td>\n",
       "    </tr>\n",
       "  </tbody>\n",
       "</table>\n",
       "</div>"
      ],
      "text/plain": [
       "        city  area  rooms  bathroom  parking spaces  floor     animal  \\\n",
       "0  São Paulo    70      2         1               1    7.0      acept   \n",
       "1  São Paulo   320      4         4               0   20.0      acept   \n",
       "4  São Paulo    25      1         1               0    1.0  not acept   \n",
       "5  São Paulo   376      3         3               7    NaN      acept   \n",
       "7  São Paulo   213      4         4               4    4.0      acept   \n",
       "\n",
       "       furniture  hoa (R$)  rent amount (R$)  property tax (R$)  \\\n",
       "0      furnished      2065              3300                211   \n",
       "1  not furnished      1200              4960               1750   \n",
       "4  not furnished         0               800                 25   \n",
       "5  not furnished         0              8000                834   \n",
       "7  not furnished      2254              3223               1735   \n",
       "\n",
       "   fire insurance (R$)  total (R$)  \n",
       "0                   42        5618  \n",
       "1                   63        7973  \n",
       "4                   11         836  \n",
       "5                  121        8955  \n",
       "7                   41        7253  "
      ]
     },
     "execution_count": 158,
     "metadata": {},
     "output_type": "execute_result"
    }
   ],
   "source": [
    "precoAluguelImoveisSP_df = precoAluguelImoveisSP_df[selecao]\n",
    "precoAluguelImoveisSP_df.head()\n"
   ]
  },
  {
   "cell_type": "code",
   "execution_count": 159,
   "id": "a89a75d9",
   "metadata": {},
   "outputs": [
    {
     "name": "stdout",
     "output_type": "stream",
     "text": [
      "<class 'pandas.core.frame.DataFrame'>\n",
      "Int64Index: 5887 entries, 0 to 10691\n",
      "Data columns (total 13 columns):\n",
      " #   Column               Non-Null Count  Dtype  \n",
      "---  ------               --------------  -----  \n",
      " 0   city                 5887 non-null   object \n",
      " 1   area                 5887 non-null   int64  \n",
      " 2   rooms                5887 non-null   int64  \n",
      " 3   bathroom             5887 non-null   int64  \n",
      " 4   parking spaces       5887 non-null   int64  \n",
      " 5   floor                4273 non-null   float64\n",
      " 6   animal               5887 non-null   object \n",
      " 7   furniture            5887 non-null   object \n",
      " 8   hoa (R$)             5887 non-null   int64  \n",
      " 9   rent amount (R$)     5887 non-null   int64  \n",
      " 10  property tax (R$)    5887 non-null   int64  \n",
      " 11  fire insurance (R$)  5887 non-null   int64  \n",
      " 12  total (R$)           5887 non-null   int64  \n",
      "dtypes: float64(1), int64(9), object(3)\n",
      "memory usage: 643.9+ KB\n"
     ]
    }
   ],
   "source": [
    "precoAluguelImoveisSP_df.info()"
   ]
  },
  {
   "cell_type": "markdown",
   "id": "dcc37ca4",
   "metadata": {},
   "source": [
    "Existem 5887 dados referente a cidade de São Paulo, e existem apenas 4273 dados na coluna floor que são validos, ou seja existem 1.614 dados invalidos nessa coluna, 27,41% dos dados seriam excluidos se optasse por tirar as linhas com dados nulos, como a coluna floor não tem significancia para as perguntas propostas, vou optar por remover a coluna floor."
   ]
  },
  {
   "cell_type": "code",
   "execution_count": 160,
   "id": "3099e8ad",
   "metadata": {},
   "outputs": [],
   "source": [
    "# Remover coluna floor\n",
    "del precoAluguelImoveisSP_df['floor']"
   ]
  },
  {
   "cell_type": "code",
   "execution_count": 161,
   "id": "832f7088",
   "metadata": {},
   "outputs": [
    {
     "name": "stdout",
     "output_type": "stream",
     "text": [
      "<class 'pandas.core.frame.DataFrame'>\n",
      "Int64Index: 5887 entries, 0 to 10691\n",
      "Data columns (total 12 columns):\n",
      " #   Column               Non-Null Count  Dtype \n",
      "---  ------               --------------  ----- \n",
      " 0   city                 5887 non-null   object\n",
      " 1   area                 5887 non-null   int64 \n",
      " 2   rooms                5887 non-null   int64 \n",
      " 3   bathroom             5887 non-null   int64 \n",
      " 4   parking spaces       5887 non-null   int64 \n",
      " 5   animal               5887 non-null   object\n",
      " 6   furniture            5887 non-null   object\n",
      " 7   hoa (R$)             5887 non-null   int64 \n",
      " 8   rent amount (R$)     5887 non-null   int64 \n",
      " 9   property tax (R$)    5887 non-null   int64 \n",
      " 10  fire insurance (R$)  5887 non-null   int64 \n",
      " 11  total (R$)           5887 non-null   int64 \n",
      "dtypes: int64(9), object(3)\n",
      "memory usage: 597.9+ KB\n"
     ]
    }
   ],
   "source": [
    "precoAluguelImoveisSP_df.info()"
   ]
  },
  {
   "cell_type": "markdown",
   "id": "feb5dbdf",
   "metadata": {},
   "source": [
    "# Entendendo os dados"
   ]
  },
  {
   "cell_type": "code",
   "execution_count": 162,
   "id": "c99cde3d",
   "metadata": {
    "scrolled": true
   },
   "outputs": [
    {
     "data": {
      "text/html": [
       "<div>\n",
       "<style scoped>\n",
       "    .dataframe tbody tr th:only-of-type {\n",
       "        vertical-align: middle;\n",
       "    }\n",
       "\n",
       "    .dataframe tbody tr th {\n",
       "        vertical-align: top;\n",
       "    }\n",
       "\n",
       "    .dataframe thead th {\n",
       "        text-align: right;\n",
       "    }\n",
       "</style>\n",
       "<table border=\"1\" class=\"dataframe\">\n",
       "  <thead>\n",
       "    <tr style=\"text-align: right;\">\n",
       "      <th></th>\n",
       "      <th>count</th>\n",
       "      <th>mean</th>\n",
       "      <th>std</th>\n",
       "      <th>min</th>\n",
       "      <th>25%</th>\n",
       "      <th>50%</th>\n",
       "      <th>75%</th>\n",
       "      <th>max</th>\n",
       "    </tr>\n",
       "  </thead>\n",
       "  <tbody>\n",
       "    <tr>\n",
       "      <th>area</th>\n",
       "      <td>5887.0</td>\n",
       "      <td>158.899439</td>\n",
       "      <td>347.474169</td>\n",
       "      <td>11.0</td>\n",
       "      <td>59.0</td>\n",
       "      <td>106.0</td>\n",
       "      <td>212.0</td>\n",
       "      <td>24606.0</td>\n",
       "    </tr>\n",
       "    <tr>\n",
       "      <th>rooms</th>\n",
       "      <td>5887.0</td>\n",
       "      <td>2.558859</td>\n",
       "      <td>1.166365</td>\n",
       "      <td>1.0</td>\n",
       "      <td>2.0</td>\n",
       "      <td>3.0</td>\n",
       "      <td>3.0</td>\n",
       "      <td>10.0</td>\n",
       "    </tr>\n",
       "    <tr>\n",
       "      <th>bathroom</th>\n",
       "      <td>5887.0</td>\n",
       "      <td>2.467641</td>\n",
       "      <td>1.503060</td>\n",
       "      <td>1.0</td>\n",
       "      <td>1.0</td>\n",
       "      <td>2.0</td>\n",
       "      <td>4.0</td>\n",
       "      <td>10.0</td>\n",
       "    </tr>\n",
       "    <tr>\n",
       "      <th>parking spaces</th>\n",
       "      <td>5887.0</td>\n",
       "      <td>1.877527</td>\n",
       "      <td>1.687973</td>\n",
       "      <td>0.0</td>\n",
       "      <td>1.0</td>\n",
       "      <td>1.0</td>\n",
       "      <td>3.0</td>\n",
       "      <td>12.0</td>\n",
       "    </tr>\n",
       "    <tr>\n",
       "      <th>hoa (R$)</th>\n",
       "      <td>5887.0</td>\n",
       "      <td>1169.627994</td>\n",
       "      <td>4076.461180</td>\n",
       "      <td>0.0</td>\n",
       "      <td>0.0</td>\n",
       "      <td>665.0</td>\n",
       "      <td>1608.5</td>\n",
       "      <td>220000.0</td>\n",
       "    </tr>\n",
       "    <tr>\n",
       "      <th>property tax (R$)</th>\n",
       "      <td>5887.0</td>\n",
       "      <td>495.701716</td>\n",
       "      <td>4153.618928</td>\n",
       "      <td>0.0</td>\n",
       "      <td>37.0</td>\n",
       "      <td>170.0</td>\n",
       "      <td>550.0</td>\n",
       "      <td>313700.0</td>\n",
       "    </tr>\n",
       "    <tr>\n",
       "      <th>fire insurance (R$)</th>\n",
       "      <td>5887.0</td>\n",
       "      <td>62.428911</td>\n",
       "      <td>50.073429</td>\n",
       "      <td>4.0</td>\n",
       "      <td>26.0</td>\n",
       "      <td>45.0</td>\n",
       "      <td>83.0</td>\n",
       "      <td>677.0</td>\n",
       "    </tr>\n",
       "    <tr>\n",
       "      <th>total (R$)</th>\n",
       "      <td>5887.0</td>\n",
       "      <td>6380.831833</td>\n",
       "      <td>7541.320897</td>\n",
       "      <td>508.0</td>\n",
       "      <td>2631.0</td>\n",
       "      <td>4596.0</td>\n",
       "      <td>8591.0</td>\n",
       "      <td>316900.0</td>\n",
       "    </tr>\n",
       "  </tbody>\n",
       "</table>\n",
       "</div>"
      ],
      "text/plain": [
       "                      count         mean          std    min     25%     50%  \\\n",
       "area                 5887.0   158.899439   347.474169   11.0    59.0   106.0   \n",
       "rooms                5887.0     2.558859     1.166365    1.0     2.0     3.0   \n",
       "bathroom             5887.0     2.467641     1.503060    1.0     1.0     2.0   \n",
       "parking spaces       5887.0     1.877527     1.687973    0.0     1.0     1.0   \n",
       "hoa (R$)             5887.0  1169.627994  4076.461180    0.0     0.0   665.0   \n",
       "property tax (R$)    5887.0   495.701716  4153.618928    0.0    37.0   170.0   \n",
       "fire insurance (R$)  5887.0    62.428911    50.073429    4.0    26.0    45.0   \n",
       "total (R$)           5887.0  6380.831833  7541.320897  508.0  2631.0  4596.0   \n",
       "\n",
       "                        75%       max  \n",
       "area                  212.0   24606.0  \n",
       "rooms                   3.0      10.0  \n",
       "bathroom                4.0      10.0  \n",
       "parking spaces          3.0      12.0  \n",
       "hoa (R$)             1608.5  220000.0  \n",
       "property tax (R$)     550.0  313700.0  \n",
       "fire insurance (R$)    83.0     677.0  \n",
       "total (R$)           8591.0  316900.0  "
      ]
     },
     "execution_count": 162,
     "metadata": {},
     "output_type": "execute_result"
    }
   ],
   "source": [
    "precoAluguelImoveisSP_df[['area','rooms','bathroom', 'parking spaces', 'hoa (R$)', 'property tax (R$)', 'fire insurance (R$)', 'total (R$)']].describe().T"
   ]
  },
  {
   "cell_type": "markdown",
   "id": "9c15a82b",
   "metadata": {},
   "source": [
    "## Área"
   ]
  },
  {
   "cell_type": "code",
   "execution_count": 163,
   "id": "00370a70",
   "metadata": {},
   "outputs": [
    {
     "data": {
      "image/png": "[encoded data removed]",
      "text/plain": [
       "<Figure size 640x480 with 1 Axes>"
      ]
     },
     "metadata": {},
     "output_type": "display_data"
    }
   ],
   "source": [
    "with sns.axes_style('whitegrid'):\n",
    "    grafico = sns.boxplot(x=precoAluguelImoveisSP_df[\"area\"])\n",
    "    grafico.set(title='Distribuição de Área por m²', xlabel='Área');\n"
   ]
  },
  {
   "cell_type": "markdown",
   "id": "c3fcd16c",
   "metadata": {},
   "source": [
    "Existe alguns outliers em relação a área dos imoveis, vou remover esses outliers dos dados para não causar inviesamento na análise, para remover os outliers, será usado o método do intervalo interquartil (IQR)"
   ]
  },
  {
   "cell_type": "code",
   "execution_count": 164,
   "id": "49726b9f",
   "metadata": {},
   "outputs": [],
   "source": [
    "# Calcular o IQR\n",
    "Q1 = precoAluguelImoveisSP_df['area'].quantile(0.25)\n",
    "Q3 = precoAluguelImoveisSP_df['area'].quantile(0.75)\n",
    "IQR = Q3 - Q1\n",
    "\n",
    "# Definir limites para identificar outliers\n",
    "limite_inferior = Q1 - 1.5 * IQR\n",
    "limite_superior = Q3 + 1.5 * IQR\n",
    "\n",
    "# Remover outliers\n",
    "precoAluguelImoveisSP_df = precoAluguelImoveisSP_df[\n",
    "    (precoAluguelImoveisSP_df['area'] >= limite_inferior) &\n",
    "    (precoAluguelImoveisSP_df['area'] <= limite_superior)\n",
    "]"
   ]
  },
  {
   "cell_type": "code",
   "execution_count": 169,
   "id": "eb331aac",
   "metadata": {},
   "outputs": [
    {
     "data": {
      "text/html": [
       "<div>\n",
       "<style scoped>\n",
       "    .dataframe tbody tr th:only-of-type {\n",
       "        vertical-align: middle;\n",
       "    }\n",
       "\n",
       "    .dataframe tbody tr th {\n",
       "        vertical-align: top;\n",
       "    }\n",
       "\n",
       "    .dataframe thead th {\n",
       "        text-align: right;\n",
       "    }\n",
       "</style>\n",
       "<table border=\"1\" class=\"dataframe\">\n",
       "  <thead>\n",
       "    <tr style=\"text-align: right;\">\n",
       "      <th></th>\n",
       "      <th>count</th>\n",
       "      <th>mean</th>\n",
       "      <th>std</th>\n",
       "      <th>min</th>\n",
       "      <th>25%</th>\n",
       "      <th>50%</th>\n",
       "      <th>75%</th>\n",
       "      <th>max</th>\n",
       "    </tr>\n",
       "  </thead>\n",
       "  <tbody>\n",
       "    <tr>\n",
       "      <th>area</th>\n",
       "      <td>5636.0</td>\n",
       "      <td>135.193932</td>\n",
       "      <td>98.915144</td>\n",
       "      <td>11.0</td>\n",
       "      <td>57.0</td>\n",
       "      <td>100.0</td>\n",
       "      <td>200.0</td>\n",
       "      <td>440.0</td>\n",
       "    </tr>\n",
       "  </tbody>\n",
       "</table>\n",
       "</div>"
      ],
      "text/plain": [
       "       count        mean        std   min   25%    50%    75%    max\n",
       "area  5636.0  135.193932  98.915144  11.0  57.0  100.0  200.0  440.0"
      ]
     },
     "execution_count": 169,
     "metadata": {},
     "output_type": "execute_result"
    }
   ],
   "source": [
    "precoAluguelImoveisSP_df[['area']].describe().T"
   ]
  },
  {
   "cell_type": "code",
   "execution_count": 170,
   "id": "9cb8d310",
   "metadata": {},
   "outputs": [
    {
     "data": {
      "image/png": "[encoded data removed]",
      "text/plain": [
       "<Figure size 640x480 with 1 Axes>"
      ]
     },
     "metadata": {},
     "output_type": "display_data"
    }
   ],
   "source": [
    "with sns.axes_style('whitegrid'):\n",
    "    grafico = sns.boxplot(x=precoAluguelImoveisSP_df[\"area\"])\n",
    "    grafico.set(title='Distribuição de Área por m²', xlabel='Área');"
   ]
  },
  {
   "cell_type": "markdown",
   "id": "c7ab2b06",
   "metadata": {},
   "source": [
    "## total"
   ]
  },
  {
   "cell_type": "code",
   "execution_count": 171,
   "id": "603fbe8b",
   "metadata": {},
   "outputs": [
    {
     "data": {
      "image/png": "[encoded data removed]",
      "text/plain": [
       "<Figure size 640x480 with 1 Axes>"
      ]
     },
     "metadata": {},
     "output_type": "display_data"
    }
   ],
   "source": [
    "with sns.axes_style('whitegrid'):\n",
    "    grafico = sns.boxplot(x=precoAluguelImoveisSP_df[\"total (R$)\"])\n",
    "    grafico.set(title='Distribuição de Preço total do aluguel', xlabel='Preço');\n"
   ]
  },
  {
   "cell_type": "markdown",
   "id": "7f1e7b26",
   "metadata": {},
   "source": [
    "Existe alguns outliers em relação ao preço dos imoveis, vou remover esses outliers dos dados para não causar inviesamento na análise, para remover os outliers, será usado o método do intervalo interquartil (IQR)"
   ]
  },
  {
   "cell_type": "code",
   "execution_count": 172,
   "id": "fcca1656",
   "metadata": {},
   "outputs": [],
   "source": [
    "# Calcular o IQR\n",
    "Q1 = precoAluguelImoveisSP_df['total (R$)'].quantile(0.25)\n",
    "Q3 = precoAluguelImoveisSP_df['total (R$)'].quantile(0.75)\n",
    "IQR = Q3 - Q1\n",
    "\n",
    "# Definir limites para identificar outliers\n",
    "limite_inferior = Q1 - 1.5 * IQR\n",
    "limite_superior = Q3 + 1.5 * IQR\n",
    "\n",
    "# Remover outliers\n",
    "precoAluguelImoveisSP_df = precoAluguelImoveisSP_df[\n",
    "    (precoAluguelImoveisSP_df['total (R$)'] >= limite_inferior) &\n",
    "    (precoAluguelImoveisSP_df['total (R$)'] <= limite_superior)\n",
    "]"
   ]
  },
  {
   "cell_type": "code",
   "execution_count": 173,
   "id": "38e2da8e",
   "metadata": {},
   "outputs": [
    {
     "data": {
      "text/html": [
       "<div>\n",
       "<style scoped>\n",
       "    .dataframe tbody tr th:only-of-type {\n",
       "        vertical-align: middle;\n",
       "    }\n",
       "\n",
       "    .dataframe tbody tr th {\n",
       "        vertical-align: top;\n",
       "    }\n",
       "\n",
       "    .dataframe thead th {\n",
       "        text-align: right;\n",
       "    }\n",
       "</style>\n",
       "<table border=\"1\" class=\"dataframe\">\n",
       "  <thead>\n",
       "    <tr style=\"text-align: right;\">\n",
       "      <th></th>\n",
       "      <th>count</th>\n",
       "      <th>mean</th>\n",
       "      <th>std</th>\n",
       "      <th>min</th>\n",
       "      <th>25%</th>\n",
       "      <th>50%</th>\n",
       "      <th>75%</th>\n",
       "      <th>max</th>\n",
       "    </tr>\n",
       "  </thead>\n",
       "  <tbody>\n",
       "    <tr>\n",
       "      <th>total (R$)</th>\n",
       "      <td>5400.0</td>\n",
       "      <td>5312.909074</td>\n",
       "      <td>3588.59154</td>\n",
       "      <td>508.0</td>\n",
       "      <td>2544.75</td>\n",
       "      <td>4190.5</td>\n",
       "      <td>7293.5</td>\n",
       "      <td>16100.0</td>\n",
       "    </tr>\n",
       "  </tbody>\n",
       "</table>\n",
       "</div>"
      ],
      "text/plain": [
       "             count         mean         std    min      25%     50%     75%  \\\n",
       "total (R$)  5400.0  5312.909074  3588.59154  508.0  2544.75  4190.5  7293.5   \n",
       "\n",
       "                max  \n",
       "total (R$)  16100.0  "
      ]
     },
     "execution_count": 173,
     "metadata": {},
     "output_type": "execute_result"
    }
   ],
   "source": [
    "precoAluguelImoveisSP_df[['total (R$)']].describe().T"
   ]
  },
  {
   "cell_type": "code",
   "execution_count": 174,
   "id": "fdeefd63",
   "metadata": {},
   "outputs": [
    {
     "data": {
      "image/png": "[encoded data removed]",
      "text/plain": [
       "<Figure size 640x480 with 1 Axes>"
      ]
     },
     "metadata": {},
     "output_type": "display_data"
    }
   ],
   "source": [
    "with sns.axes_style('whitegrid'):\n",
    "    grafico = sns.boxplot(x=precoAluguelImoveisSP_df[\"total (R$)\"])\n",
    "    grafico.set(title='Distribuição de Preço total do aluguel', xlabel='Preço');\n"
   ]
  },
  {
   "cell_type": "markdown",
   "id": "11120832",
   "metadata": {},
   "source": [
    "## Valor Condominio"
   ]
  },
  {
   "cell_type": "code",
   "execution_count": 176,
   "id": "fc63a477",
   "metadata": {},
   "outputs": [
    {
     "data": {
      "image/png": "[encoded data removed]",
      "text/plain": [
       "<Figure size 640x480 with 1 Axes>"
      ]
     },
     "metadata": {},
     "output_type": "display_data"
    }
   ],
   "source": [
    "with sns.axes_style('whitegrid'):\n",
    "    grafico = sns.boxplot(x=precoAluguelImoveisSP_df[\"hoa (R$)\"])\n",
    "    grafico.set(title='Distribuição de Preço do condominio', xlabel='Preço');\n"
   ]
  },
  {
   "cell_type": "markdown",
   "id": "80e23f88",
   "metadata": {},
   "source": [
    "Existe alguns outliers em relação ao preço dos imoveis, vou remover esses outliers dos dados para não causar inviesamento na análise, para remover os outliers, será usado o método do intervalo interquartil (IQR)"
   ]
  },
  {
   "cell_type": "code",
   "execution_count": 177,
   "id": "c2ae59e4",
   "metadata": {},
   "outputs": [],
   "source": [
    "# Calcular o IQR\n",
    "Q1 = precoAluguelImoveisSP_df['hoa (R$)'].quantile(0.25)\n",
    "Q3 = precoAluguelImoveisSP_df['hoa (R$)'].quantile(0.75)\n",
    "IQR = Q3 - Q1\n",
    "\n",
    "# Definir limites para identificar outliers\n",
    "limite_inferior = Q1 - 1.5 * IQR\n",
    "limite_superior = Q3 + 1.5 * IQR\n",
    "\n",
    "# Remover outliers\n",
    "precoAluguelImoveisSP_df = precoAluguelImoveisSP_df[\n",
    "    (precoAluguelImoveisSP_df['hoa (R$)'] >= limite_inferior) &\n",
    "    (precoAluguelImoveisSP_df['hoa (R$)'] <= limite_superior)\n",
    "]"
   ]
  },
  {
   "cell_type": "code",
   "execution_count": 178,
   "id": "6ecbf056",
   "metadata": {},
   "outputs": [
    {
     "data": {
      "text/html": [
       "<div>\n",
       "<style scoped>\n",
       "    .dataframe tbody tr th:only-of-type {\n",
       "        vertical-align: middle;\n",
       "    }\n",
       "\n",
       "    .dataframe tbody tr th {\n",
       "        vertical-align: top;\n",
       "    }\n",
       "\n",
       "    .dataframe thead th {\n",
       "        text-align: right;\n",
       "    }\n",
       "</style>\n",
       "<table border=\"1\" class=\"dataframe\">\n",
       "  <thead>\n",
       "    <tr style=\"text-align: right;\">\n",
       "      <th></th>\n",
       "      <th>count</th>\n",
       "      <th>mean</th>\n",
       "      <th>std</th>\n",
       "      <th>min</th>\n",
       "      <th>25%</th>\n",
       "      <th>50%</th>\n",
       "      <th>75%</th>\n",
       "      <th>max</th>\n",
       "    </tr>\n",
       "  </thead>\n",
       "  <tbody>\n",
       "    <tr>\n",
       "      <th>hoa (R$)</th>\n",
       "      <td>5259.0</td>\n",
       "      <td>873.965963</td>\n",
       "      <td>887.902192</td>\n",
       "      <td>0.0</td>\n",
       "      <td>0.0</td>\n",
       "      <td>612.0</td>\n",
       "      <td>1367.5</td>\n",
       "      <td>3678.0</td>\n",
       "    </tr>\n",
       "  </tbody>\n",
       "</table>\n",
       "</div>"
      ],
      "text/plain": [
       "           count        mean         std  min  25%    50%     75%     max\n",
       "hoa (R$)  5259.0  873.965963  887.902192  0.0  0.0  612.0  1367.5  3678.0"
      ]
     },
     "execution_count": 178,
     "metadata": {},
     "output_type": "execute_result"
    }
   ],
   "source": [
    "precoAluguelImoveisSP_df[['hoa (R$)']].describe().T"
   ]
  },
  {
   "cell_type": "code",
   "execution_count": 179,
   "id": "fbc8c423",
   "metadata": {},
   "outputs": [
    {
     "data": {
      "image/png": "[encoded data removed]",
      "text/plain": [
       "<Figure size 640x480 with 1 Axes>"
      ]
     },
     "metadata": {},
     "output_type": "display_data"
    }
   ],
   "source": [
    "with sns.axes_style('whitegrid'):\n",
    "    grafico = sns.boxplot(x=precoAluguelImoveisSP_df[\"hoa (R$)\"])\n",
    "    grafico.set(title='Distribuição de Preço do condominio', xlabel='Preço');\n"
   ]
  },
  {
   "cell_type": "markdown",
   "id": "d2f66144",
   "metadata": {},
   "source": [
    "## Manipulações dos dados que ainda não foram manipulados"
   ]
  },
  {
   "cell_type": "code",
   "execution_count": null,
   "id": "7645330b",
   "metadata": {},
   "outputs": [],
   "source": []
  },
  {
   "cell_type": "markdown",
   "id": "2121d753",
   "metadata": {},
   "source": [
    "## Mudanças Gerais dos Dados depois das manipulações"
   ]
  },
  {
   "cell_type": "code",
   "execution_count": 180,
   "id": "3cbc50bc",
   "metadata": {},
   "outputs": [
    {
     "data": {
      "text/html": [
       "<div>\n",
       "<style scoped>\n",
       "    .dataframe tbody tr th:only-of-type {\n",
       "        vertical-align: middle;\n",
       "    }\n",
       "\n",
       "    .dataframe tbody tr th {\n",
       "        vertical-align: top;\n",
       "    }\n",
       "\n",
       "    .dataframe thead th {\n",
       "        text-align: right;\n",
       "    }\n",
       "</style>\n",
       "<table border=\"1\" class=\"dataframe\">\n",
       "  <thead>\n",
       "    <tr style=\"text-align: right;\">\n",
       "      <th></th>\n",
       "      <th>count</th>\n",
       "      <th>mean</th>\n",
       "      <th>std</th>\n",
       "      <th>min</th>\n",
       "      <th>25%</th>\n",
       "      <th>50%</th>\n",
       "      <th>75%</th>\n",
       "      <th>max</th>\n",
       "    </tr>\n",
       "  </thead>\n",
       "  <tbody>\n",
       "    <tr>\n",
       "      <th>area</th>\n",
       "      <td>5259.0</td>\n",
       "      <td>124.354250</td>\n",
       "      <td>91.061745</td>\n",
       "      <td>11.0</td>\n",
       "      <td>55.0</td>\n",
       "      <td>93.0</td>\n",
       "      <td>173.5</td>\n",
       "      <td>440.0</td>\n",
       "    </tr>\n",
       "    <tr>\n",
       "      <th>rooms</th>\n",
       "      <td>5259.0</td>\n",
       "      <td>2.402168</td>\n",
       "      <td>1.093431</td>\n",
       "      <td>1.0</td>\n",
       "      <td>2.0</td>\n",
       "      <td>2.0</td>\n",
       "      <td>3.0</td>\n",
       "      <td>10.0</td>\n",
       "    </tr>\n",
       "    <tr>\n",
       "      <th>bathroom</th>\n",
       "      <td>5259.0</td>\n",
       "      <td>2.211067</td>\n",
       "      <td>1.304214</td>\n",
       "      <td>1.0</td>\n",
       "      <td>1.0</td>\n",
       "      <td>2.0</td>\n",
       "      <td>3.0</td>\n",
       "      <td>9.0</td>\n",
       "    </tr>\n",
       "    <tr>\n",
       "      <th>parking spaces</th>\n",
       "      <td>5259.0</td>\n",
       "      <td>1.613995</td>\n",
       "      <td>1.466658</td>\n",
       "      <td>0.0</td>\n",
       "      <td>1.0</td>\n",
       "      <td>1.0</td>\n",
       "      <td>2.0</td>\n",
       "      <td>10.0</td>\n",
       "    </tr>\n",
       "    <tr>\n",
       "      <th>hoa (R$)</th>\n",
       "      <td>5259.0</td>\n",
       "      <td>873.965963</td>\n",
       "      <td>887.902192</td>\n",
       "      <td>0.0</td>\n",
       "      <td>0.0</td>\n",
       "      <td>612.0</td>\n",
       "      <td>1367.5</td>\n",
       "      <td>3678.0</td>\n",
       "    </tr>\n",
       "    <tr>\n",
       "      <th>property tax (R$)</th>\n",
       "      <td>5259.0</td>\n",
       "      <td>291.240540</td>\n",
       "      <td>404.459451</td>\n",
       "      <td>0.0</td>\n",
       "      <td>28.5</td>\n",
       "      <td>135.0</td>\n",
       "      <td>400.0</td>\n",
       "      <td>4710.0</td>\n",
       "    </tr>\n",
       "    <tr>\n",
       "      <th>fire insurance (R$)</th>\n",
       "      <td>5259.0</td>\n",
       "      <td>52.320023</td>\n",
       "      <td>37.553543</td>\n",
       "      <td>4.0</td>\n",
       "      <td>25.0</td>\n",
       "      <td>41.0</td>\n",
       "      <td>69.0</td>\n",
       "      <td>226.0</td>\n",
       "    </tr>\n",
       "    <tr>\n",
       "      <th>total (R$)</th>\n",
       "      <td>5259.0</td>\n",
       "      <td>5128.212398</td>\n",
       "      <td>3429.779164</td>\n",
       "      <td>508.0</td>\n",
       "      <td>2512.5</td>\n",
       "      <td>4089.0</td>\n",
       "      <td>6929.0</td>\n",
       "      <td>16100.0</td>\n",
       "    </tr>\n",
       "  </tbody>\n",
       "</table>\n",
       "</div>"
      ],
      "text/plain": [
       "                      count         mean          std    min     25%     50%  \\\n",
       "area                 5259.0   124.354250    91.061745   11.0    55.0    93.0   \n",
       "rooms                5259.0     2.402168     1.093431    1.0     2.0     2.0   \n",
       "bathroom             5259.0     2.211067     1.304214    1.0     1.0     2.0   \n",
       "parking spaces       5259.0     1.613995     1.466658    0.0     1.0     1.0   \n",
       "hoa (R$)             5259.0   873.965963   887.902192    0.0     0.0   612.0   \n",
       "property tax (R$)    5259.0   291.240540   404.459451    0.0    28.5   135.0   \n",
       "fire insurance (R$)  5259.0    52.320023    37.553543    4.0    25.0    41.0   \n",
       "total (R$)           5259.0  5128.212398  3429.779164  508.0  2512.5  4089.0   \n",
       "\n",
       "                        75%      max  \n",
       "area                  173.5    440.0  \n",
       "rooms                   3.0     10.0  \n",
       "bathroom                3.0      9.0  \n",
       "parking spaces          2.0     10.0  \n",
       "hoa (R$)             1367.5   3678.0  \n",
       "property tax (R$)     400.0   4710.0  \n",
       "fire insurance (R$)    69.0    226.0  \n",
       "total (R$)           6929.0  16100.0  "
      ]
     },
     "execution_count": 180,
     "metadata": {},
     "output_type": "execute_result"
    }
   ],
   "source": [
    "precoAluguelImoveisSP_df[['area','rooms','bathroom', 'parking spaces', 'hoa (R$)', 'property tax (R$)', 'fire insurance (R$)', 'total (R$)']].describe().T"
   ]
  },
  {
   "cell_type": "markdown",
   "id": "f5314682",
   "metadata": {},
   "source": [
    "### Total do aluguel"
   ]
  },
  {
   "cell_type": "code",
   "execution_count": 181,
   "id": "6a831b3d",
   "metadata": {},
   "outputs": [
    {
     "data": {
      "image/png": "[encoded data removed]",
      "text/plain": [
       "<Figure size 640x480 with 1 Axes>"
      ]
     },
     "metadata": {},
     "output_type": "display_data"
    }
   ],
   "source": [
    "with sns.axes_style('whitegrid'):\n",
    "    grafico = sns.boxplot(x=precoAluguelImoveisSP_df[\"total (R$)\"])\n",
    "    grafico.set(title='Distribuição de Preço total do aluguel', xlabel='Preço');\n"
   ]
  },
  {
   "cell_type": "markdown",
   "id": "481bf3bd",
   "metadata": {},
   "source": [
    "50% dos alugueis estão abaixo de 4089,0R$\n",
    "75% dos alugueis estão abaixo de 6929.0R$\n",
    "e\n",
    "25% dos alugueis estão acima de 6929.0R$ chegando a 16100,0R$"
   ]
  }
 ],
 "metadata": {
  "kernelspec": {
   "display_name": "Python 3 (ipykernel)",
   "language": "python",
   "name": "python3"
  },
  "language_info": {
   "codemirror_mode": {
    "name": "ipython",
    "version": 3
   },
   "file_extension": ".py",
   "mimetype": "text/x-python",
   "name": "python",
   "nbconvert_exporter": "python",
   "pygments_lexer": "ipython3",
   "version": "3.11.4"
  }
 },
 "nbformat": 4,
 "nbformat_minor": 5
}
